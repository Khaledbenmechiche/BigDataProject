{
 "cells": [
  {
   "cell_type": "markdown",
   "id": "98fea887",
   "metadata": {},
   "source": [
    "0) chargement des données : "
   ]
  },
  {
   "cell_type": "code",
   "execution_count": 1,
   "id": "a88c60bc",
   "metadata": {},
   "outputs": [
    {
     "name": "stderr",
     "output_type": "stream",
     "text": [
      "22/11/14 12:02:55 WARN NativeCodeLoader: Unable to load native-hadoop library for your platform... using builtin-java classes where applicable\n",
      "Using Spark's default log4j profile: org/apache/spark/log4j-defaults.properties\n",
      "Setting default log level to \"WARN\".\n",
      "To adjust logging level use sc.setLogLevel(newLevel). For SparkR, use setLogLevel(newLevel).\n"
     ]
    }
   ],
   "source": [
    "from pyspark.sql import SparkSession\n",
    "\n",
    "\n",
    "import pandas as pd\n",
    "import pyspark.sql as sparksql\n",
    "import seaborn as sns\n",
    "import matplotlib.pyplot as plt\n",
    "import numpy as np\n",
    "\n",
    "spark = SparkSession.\\\n",
    "        builder.\\\n",
    "        appName(\"pyspark-notebook\").\\\n",
    "        master(\"spark://spark-master:7077\").\\\n",
    "        config(\"spark.executor.memory\", \"1g\").\\\n",
    "        getOrCreate()"
   ]
  },
  {
   "cell_type": "markdown",
   "id": "d27e1811",
   "metadata": {},
   "source": [
    "1) Lire la données : \n"
   ]
  },
  {
   "cell_type": "markdown",
   "id": "af39e055",
   "metadata": {},
   "source": [
    "1.1) Lecture de la donnée :"
   ]
  },
  {
   "cell_type": "code",
   "execution_count": 2,
   "id": "12ca646d",
   "metadata": {},
   "outputs": [
    {
     "name": "stderr",
     "output_type": "stream",
     "text": [
      "                                                                                \r"
     ]
    },
    {
     "name": "stdout",
     "output_type": "stream",
     "text": [
      "+------------+-----+----+--------------------+------+\n",
      "|Id_pollution|Annee|Mois|             Qualite|Nombre|\n",
      "+------------+-----+----+--------------------+------+\n",
      "|           1| 2019|aout|Extremement mauvaise|   0.0|\n",
      "|           2| 2019|aout|Extremement mauvaise|  60.0|\n",
      "|           3| 2019|aout|Extremement mauvaise|   1.0|\n",
      "|           4| 2019|aout|Extremement mauvaise|   0.0|\n",
      "|           5| 2019|aout|Extremement mauvaise|  22.0|\n",
      "|           6| 2019|aout|Extremement mauvaise|   0.0|\n",
      "|           7| 2019|aout|Extremement mauvaise|  13.0|\n",
      "|           8| 2019|aout|Extremement mauvaise|  14.0|\n",
      "|           9| 2019|aout|Extremement mauvaise|   0.0|\n",
      "|          10| 2019|aout|Extremement mauvaise|  60.0|\n",
      "|          11| 2019|aout|Extremement mauvaise|   1.0|\n",
      "|          12| 2019|aout|Extremement mauvaise|   0.0|\n",
      "|          13| 2019|aout|Extremement mauvaise|  22.0|\n",
      "|          14| 2019|aout|Extremement mauvaise|   0.0|\n",
      "|          15| 2019|aout|Extremement mauvaise|  13.0|\n",
      "|          16| 2019|aout|Extremement mauvaise|  14.0|\n",
      "|          17| 2019|aout|Extremement mauvaise|   0.0|\n",
      "|          18| 2019|aout|Extremement mauvaise|  60.0|\n",
      "|          19| 2019|aout|Extremement mauvaise|   1.0|\n",
      "|          20| 2019|aout|Extremement mauvaise|   0.0|\n",
      "+------------+-----+----+--------------------+------+\n",
      "only showing top 20 rows\n",
      "\n"
     ]
    }
   ],
   "source": [
    "path  = 'hdfs://namenode:9000/ma_base/pollution/'\n",
    "dataframe_pollution = spark.read.format('csv').options(header=True, sep=\";\").load(path)\n",
    "dataframe_pollution.show()"
   ]
  },
  {
   "cell_type": "code",
   "execution_count": 3,
   "id": "9463a623",
   "metadata": {},
   "outputs": [
    {
     "data": {
      "text/plain": [
       "197268"
      ]
     },
     "execution_count": 3,
     "metadata": {},
     "output_type": "execute_result"
    }
   ],
   "source": [
    "dataframe_pollution.count()"
   ]
  },
  {
   "cell_type": "code",
   "execution_count": 4,
   "id": "50f2dc3a",
   "metadata": {},
   "outputs": [
    {
     "data": {
      "text/plain": [
       "StructType(List(StructField(Id_pollution,StringType,true),StructField(Annee,StringType,true),StructField(Mois,StringType,true),StructField(Qualite,StringType,true),StructField(Nombre,StringType,true)))"
      ]
     },
     "execution_count": 4,
     "metadata": {},
     "output_type": "execute_result"
    }
   ],
   "source": [
    "dataframe_pollution.schema"
   ]
  },
  {
   "cell_type": "code",
   "execution_count": 5,
   "id": "e8712d58",
   "metadata": {},
   "outputs": [],
   "source": [
    "#dataframe_pollution = dataframe_pollution.withColumnRenamed(\"Id_circulation\",\"Id_pollution\")"
   ]
  },
  {
   "cell_type": "code",
   "execution_count": 6,
   "id": "09017217",
   "metadata": {},
   "outputs": [
    {
     "name": "stdout",
     "output_type": "stream",
     "text": [
      "+------------+-----+----+--------------------+------+\n",
      "|Id_pollution|Annee|Mois|             Qualite|Nombre|\n",
      "+------------+-----+----+--------------------+------+\n",
      "|           1| 2019|aout|Extremement mauvaise|   0.0|\n",
      "|           2| 2019|aout|Extremement mauvaise|  60.0|\n",
      "|           3| 2019|aout|Extremement mauvaise|   1.0|\n",
      "|           4| 2019|aout|Extremement mauvaise|   0.0|\n",
      "|           5| 2019|aout|Extremement mauvaise|  22.0|\n",
      "|           6| 2019|aout|Extremement mauvaise|   0.0|\n",
      "|           7| 2019|aout|Extremement mauvaise|  13.0|\n",
      "|           8| 2019|aout|Extremement mauvaise|  14.0|\n",
      "|           9| 2019|aout|Extremement mauvaise|   0.0|\n",
      "|          10| 2019|aout|Extremement mauvaise|  60.0|\n",
      "|          11| 2019|aout|Extremement mauvaise|   1.0|\n",
      "|          12| 2019|aout|Extremement mauvaise|   0.0|\n",
      "|          13| 2019|aout|Extremement mauvaise|  22.0|\n",
      "|          14| 2019|aout|Extremement mauvaise|   0.0|\n",
      "|          15| 2019|aout|Extremement mauvaise|  13.0|\n",
      "|          16| 2019|aout|Extremement mauvaise|  14.0|\n",
      "|          17| 2019|aout|Extremement mauvaise|   0.0|\n",
      "|          18| 2019|aout|Extremement mauvaise|  60.0|\n",
      "|          19| 2019|aout|Extremement mauvaise|   1.0|\n",
      "|          20| 2019|aout|Extremement mauvaise|   0.0|\n",
      "+------------+-----+----+--------------------+------+\n",
      "only showing top 20 rows\n",
      "\n"
     ]
    }
   ],
   "source": [
    "dataframe_pollution.show()"
   ]
  },
  {
   "cell_type": "code",
   "execution_count": 7,
   "id": "ed845b9c",
   "metadata": {},
   "outputs": [
    {
     "name": "stderr",
     "output_type": "stream",
     "text": [
      "[Stage 5:=============================>                             (1 + 1) / 2]\r"
     ]
    },
    {
     "name": "stdout",
     "output_type": "stream",
     "text": [
      "+-------+------------------+\n",
      "|summary|            Nombre|\n",
      "+-------+------------------+\n",
      "|  count|            197268|\n",
      "|   mean|15.173334245797594|\n",
      "| stddev| 24.63326031663518|\n",
      "|    min|               0.0|\n",
      "|    max|              78.0|\n",
      "+-------+------------------+\n",
      "\n"
     ]
    },
    {
     "name": "stderr",
     "output_type": "stream",
     "text": [
      "                                                                                \r"
     ]
    }
   ],
   "source": [
    "dataframe_pollution.describe([\"Nombre\"]).show()"
   ]
  },
  {
   "cell_type": "code",
   "execution_count": 8,
   "id": "4ecc907c",
   "metadata": {},
   "outputs": [
    {
     "name": "stdout",
     "output_type": "stream",
     "text": [
      "+-----+----+--------------------+\n",
      "|Annee|Mois|             Qualite|\n",
      "+-----+----+--------------------+\n",
      "| 2019|aout|Extremement mauvaise|\n",
      "| 2019|aout|Extremement mauvaise|\n",
      "| 2019|aout|Extremement mauvaise|\n",
      "| 2019|aout|Extremement mauvaise|\n",
      "| 2019|aout|Extremement mauvaise|\n",
      "| 2019|aout|Extremement mauvaise|\n",
      "| 2019|aout|Extremement mauvaise|\n",
      "| 2019|aout|Extremement mauvaise|\n",
      "| 2019|aout|Extremement mauvaise|\n",
      "| 2019|aout|Extremement mauvaise|\n",
      "| 2019|aout|Extremement mauvaise|\n",
      "| 2019|aout|Extremement mauvaise|\n",
      "| 2019|aout|Extremement mauvaise|\n",
      "| 2019|aout|Extremement mauvaise|\n",
      "| 2019|aout|Extremement mauvaise|\n",
      "| 2019|aout|Extremement mauvaise|\n",
      "| 2019|aout|Extremement mauvaise|\n",
      "| 2019|aout|Extremement mauvaise|\n",
      "| 2019|aout|Extremement mauvaise|\n",
      "| 2019|aout|Extremement mauvaise|\n",
      "+-----+----+--------------------+\n",
      "only showing top 20 rows\n",
      "\n"
     ]
    }
   ],
   "source": [
    "dataframe_pollution.select([\"Annee\",\"Mois\",\"Qualite\"]).show()"
   ]
  },
  {
   "cell_type": "code",
   "execution_count": 9,
   "id": "83011ffb",
   "metadata": {},
   "outputs": [
    {
     "name": "stderr",
     "output_type": "stream",
     "text": [
      "                                                                                \r"
     ]
    },
    {
     "name": "stdout",
     "output_type": "stream",
     "text": [
      "Bonne :  0\n",
      "Extremement mauvaise :  2359\n",
      "Mauvaise :  2047\n",
      "Moyenne:  0\n",
      "Degradee :  3774\n"
     ]
    },
    {
     "data": {
      "text/plain": [
       "3774"
      ]
     },
     "execution_count": 9,
     "metadata": {},
     "output_type": "execute_result"
    }
   ],
   "source": [
    "dataframe_pollution_janvierB2018 = dataframe_pollution.filter((dataframe_pollution.Annee ==\"2018\") & (dataframe_pollution.Mois ==\"Janvier\") & (dataframe_pollution.Qualite == \"Bonne\")).count()\n",
    "print(\"Bonne : \",dataframe_pollution_janvierB2018)\n",
    "dataframe_pollution_janvierEM2018 = dataframe_pollution.filter((dataframe_pollution.Annee ==\"2018\") & (dataframe_pollution.Mois ==\"Janvier\") & (dataframe_pollution.Qualite == \"Extremement mauvaise\")).count()\n",
    "print(\"Extremement mauvaise : \",dataframe_pollution_janvierEM2018)\n",
    "dataframe_pollution_janvierMA2018 = dataframe_pollution.filter((dataframe_pollution.Annee ==\"2018\") & (dataframe_pollution.Mois ==\"Janvier\") & (dataframe_pollution.Qualite == \"Mauvaise\")).count()\n",
    "print(\"Mauvaise : \" , dataframe_pollution_janvierMA2018)\n",
    "dataframe_pollution_janvierMO2018 = dataframe_pollution.filter((dataframe_pollution.Annee ==\"2018\") & (dataframe_pollution.Mois ==\"Janvier\") & (dataframe_pollution.Qualite == \"Moyenne\")).count()\n",
    "print(\"Moyenne: \" , dataframe_pollution_janvierMO2018)\n",
    "dataframe_pollution_janvierD2018 = dataframe_pollution.filter((dataframe_pollution.Annee ==\"2018\") & (dataframe_pollution.Mois ==\"Janvier\") & (dataframe_pollution.Qualite == \"Degradee\")).count()\n",
    "print(\"Degradee : \" , dataframe_pollution_janvierD2018)\n",
    "max(dataframe_pollution_janvierB2018 , dataframe_pollution_janvierEM2018 , dataframe_pollution_janvierMA2018 , dataframe_pollution_janvierMO2018 ,  dataframe_pollution_janvierD2018)"
   ]
  },
  {
   "cell_type": "code",
   "execution_count": 10,
   "id": "90a18eff",
   "metadata": {},
   "outputs": [
    {
     "name": "stdout",
     "output_type": "stream",
     "text": [
      "Bonne :  1570\n",
      "Extremement mauvaise :  0\n",
      "Mauvaise :  526\n",
      "Moyenne:  1998\n",
      "Degradee :  0\n"
     ]
    },
    {
     "data": {
      "text/plain": [
       "1998"
      ]
     },
     "execution_count": 10,
     "metadata": {},
     "output_type": "execute_result"
    }
   ],
   "source": [
    "dataframe_pollution_fevrierB2018 = dataframe_pollution.filter((dataframe_pollution.Annee ==\"2018\") & (dataframe_pollution.Mois ==\"fevrier\") & (dataframe_pollution.Qualite == \"Bonne\")).count()\n",
    "print(\"Bonne : \",dataframe_pollution_fevrierB2018)\n",
    "dataframe_pollution_fevrierEM2018 = dataframe_pollution.filter((dataframe_pollution.Annee ==\"2018\") & (dataframe_pollution.Mois ==\"fevrier\") & (dataframe_pollution.Qualite == \"Extremement mauvaise\")).count()\n",
    "print(\"Extremement mauvaise : \",dataframe_pollution_fevrierEM2018)\n",
    "dataframe_pollution_fevrierMA2018 = dataframe_pollution.filter((dataframe_pollution.Annee ==\"2018\") & (dataframe_pollution.Mois ==\"fevrier\") & (dataframe_pollution.Qualite == \"Mauvaise\")).count()\n",
    "print(\"Mauvaise : \" , dataframe_pollution_fevrierMA2018)\n",
    "dataframe_pollution_fevrierMO2018 = dataframe_pollution.filter((dataframe_pollution.Annee ==\"2018\") & (dataframe_pollution.Mois ==\"fevrier\") & (dataframe_pollution.Qualite == \"Moyenne\")).count()\n",
    "print(\"Moyenne: \" , dataframe_pollution_fevrierMO2018)\n",
    "dataframe_pollution_fevrierD2018 = dataframe_pollution.filter((dataframe_pollution.Annee ==\"2018\") & (dataframe_pollution.Mois ==\"fevrier\") & (dataframe_pollution.Qualite == \"Degradee\")).count()\n",
    "print(\"Degradee : \" , dataframe_pollution_fevrierD2018)\n",
    "max(dataframe_pollution_fevrierB2018 , dataframe_pollution_fevrierEM2018 , dataframe_pollution_fevrierMA2018 , dataframe_pollution_fevrierMO2018 ,  dataframe_pollution_fevrierD2018)"
   ]
  },
  {
   "cell_type": "code",
   "execution_count": 11,
   "id": "aefe52fc",
   "metadata": {},
   "outputs": [
    {
     "name": "stdout",
     "output_type": "stream",
     "text": [
      "Bonne :  1216\n",
      "Extremement mauvaise :  0\n",
      "Mauvaise :  1111\n",
      "Moyenne:  1672\n",
      "Degradee :  106\n"
     ]
    },
    {
     "data": {
      "text/plain": [
       "1672"
      ]
     },
     "execution_count": 11,
     "metadata": {},
     "output_type": "execute_result"
    }
   ],
   "source": [
    "dataframe_pollution_marsB2018 = dataframe_pollution.filter((dataframe_pollution.Annee ==\"2018\") & (dataframe_pollution.Mois ==\"mars\") & (dataframe_pollution.Qualite == \"Bonne\")).count()\n",
    "print(\"Bonne : \",dataframe_pollution_marsB2018)\n",
    "dataframe_pollution_marsEM2018 = dataframe_pollution.filter((dataframe_pollution.Annee ==\"2018\") & (dataframe_pollution.Mois ==\"mars\") & (dataframe_pollution.Qualite == \"Extremement mauvaise\")).count()\n",
    "print(\"Extremement mauvaise : \",dataframe_pollution_marsEM2018)\n",
    "dataframe_pollution_marsMA2018 = dataframe_pollution.filter((dataframe_pollution.Annee ==\"2018\") & (dataframe_pollution.Mois ==\"mars\") & (dataframe_pollution.Qualite == \"Mauvaise\")).count()\n",
    "print(\"Mauvaise : \" , dataframe_pollution_marsMA2018)\n",
    "dataframe_pollution_marsMO2018 = dataframe_pollution.filter((dataframe_pollution.Annee ==\"2018\") & (dataframe_pollution.Mois ==\"mars\") & (dataframe_pollution.Qualite == \"Moyenne\")).count()\n",
    "print(\"Moyenne: \" , dataframe_pollution_marsMO2018)\n",
    "dataframe_pollution_marsD2018 = dataframe_pollution.filter((dataframe_pollution.Annee ==\"2018\") & (dataframe_pollution.Mois ==\"mars\") & (dataframe_pollution.Qualite == \"Degradee\")).count()\n",
    "print(\"Degradee : \" , dataframe_pollution_marsD2018)\n",
    "max(dataframe_pollution_marsB2018 , dataframe_pollution_marsEM2018 , dataframe_pollution_marsMA2018 , dataframe_pollution_marsMO2018 ,  dataframe_pollution_marsD2018)"
   ]
  },
  {
   "cell_type": "code",
   "execution_count": 12,
   "id": "2fdb9c0e",
   "metadata": {},
   "outputs": [
    {
     "name": "stdout",
     "output_type": "stream",
     "text": [
      "Bonne :  2047\n",
      "Extremement mauvaise :  0\n",
      "Mauvaise :  266\n",
      "Moyenne:  1786\n",
      "Degradee :  0\n"
     ]
    },
    {
     "data": {
      "text/plain": [
       "2047"
      ]
     },
     "execution_count": 12,
     "metadata": {},
     "output_type": "execute_result"
    }
   ],
   "source": [
    "dataframe_pollution_AvrilB2018 = dataframe_pollution.filter((dataframe_pollution.Annee ==\"2018\") & (dataframe_pollution.Mois ==\"Avril\") & (dataframe_pollution.Qualite == \"Bonne\")).count()\n",
    "print(\"Bonne : \",dataframe_pollution_AvrilB2018)\n",
    "dataframe_pollution_AvrilEM2018 = dataframe_pollution.filter((dataframe_pollution.Annee ==\"2018\") & (dataframe_pollution.Mois ==\"Avril\") & (dataframe_pollution.Qualite == \"Extremement mauvaise\")).count()\n",
    "print(\"Extremement mauvaise : \",dataframe_pollution_AvrilEM2018)\n",
    "dataframe_pollution_AvrilMA2018 = dataframe_pollution.filter((dataframe_pollution.Annee ==\"2018\") & (dataframe_pollution.Mois ==\"Avril\") & (dataframe_pollution.Qualite == \"Mauvaise\")).count()\n",
    "print(\"Mauvaise : \" , dataframe_pollution_AvrilMA2018)\n",
    "dataframe_pollution_AvrilMO2018 = dataframe_pollution.filter((dataframe_pollution.Annee ==\"2018\") & (dataframe_pollution.Mois ==\"Avril\") & (dataframe_pollution.Qualite == \"Moyenne\")).count()\n",
    "print(\"Moyenne: \" , dataframe_pollution_AvrilMO2018)\n",
    "dataframe_pollution_AvrilD2018 = dataframe_pollution.filter((dataframe_pollution.Annee ==\"2018\") & (dataframe_pollution.Mois ==\"Avril\") & (dataframe_pollution.Qualite == \"Degradee\")).count()\n",
    "print(\"Degradee : \" , dataframe_pollution_AvrilD2018)\n",
    "max(dataframe_pollution_AvrilB2018 , dataframe_pollution_AvrilEM2018 , dataframe_pollution_AvrilMA2018 , dataframe_pollution_AvrilMO2018 ,  dataframe_pollution_AvrilD2018)"
   ]
  },
  {
   "cell_type": "code",
   "execution_count": 13,
   "id": "e9991e97",
   "metadata": {},
   "outputs": [
    {
     "name": "stdout",
     "output_type": "stream",
     "text": [
      "Bonne :  0\n",
      "Extremement mauvaise :  0\n",
      "Mauvaise :  947\n",
      "Moyenne:  1632\n",
      "Degradee :  1551\n"
     ]
    },
    {
     "data": {
      "text/plain": [
       "1632"
      ]
     },
     "execution_count": 13,
     "metadata": {},
     "output_type": "execute_result"
    }
   ],
   "source": [
    "dataframe_pollution_maiB2018 = dataframe_pollution.filter((dataframe_pollution.Annee ==\"2018\") & (dataframe_pollution.Mois ==\"mai\") & (dataframe_pollution.Qualite == \"Bonne\")).count()\n",
    "print(\"Bonne : \",dataframe_pollution_maiB2018)\n",
    "dataframe_pollution_maiEM2018 = dataframe_pollution.filter((dataframe_pollution.Annee ==\"2018\") & (dataframe_pollution.Mois ==\"mai\") & (dataframe_pollution.Qualite == \"Extremement mauvaise\")).count()\n",
    "print(\"Extremement mauvaise : \",dataframe_pollution_maiEM2018)\n",
    "dataframe_pollution_maiMA2018 = dataframe_pollution.filter((dataframe_pollution.Annee ==\"2018\") & (dataframe_pollution.Mois ==\"mai\") & (dataframe_pollution.Qualite == \"Mauvaise\")).count()\n",
    "print(\"Mauvaise : \" , dataframe_pollution_maiMA2018)\n",
    "dataframe_pollution_maiMO2018 = dataframe_pollution.filter((dataframe_pollution.Annee ==\"2018\") & (dataframe_pollution.Mois ==\"mai\") & (dataframe_pollution.Qualite == \"Moyenne\")).count()\n",
    "print(\"Moyenne: \" , dataframe_pollution_maiMO2018)\n",
    "dataframe_pollution_maiD2018 = dataframe_pollution.filter((dataframe_pollution.Annee ==\"2018\") & (dataframe_pollution.Mois ==\"mai\") & (dataframe_pollution.Qualite == \"Degradee\")).count()\n",
    "print(\"Degradee : \" , dataframe_pollution_maiD2018)\n",
    "max(dataframe_pollution_maiB2018 , dataframe_pollution_maiEM2018 , dataframe_pollution_maiMA2018 , dataframe_pollution_maiMO2018 ,  dataframe_pollution_maiD2018)"
   ]
  },
  {
   "cell_type": "code",
   "execution_count": 14,
   "id": "44e2520f",
   "metadata": {},
   "outputs": [
    {
     "name": "stdout",
     "output_type": "stream",
     "text": [
      "Bonne :  0\n",
      "Extremement mauvaise :  0\n",
      "Mauvaise :  1048\n",
      "Moyenne:  1911\n",
      "Degradee :  1170\n"
     ]
    },
    {
     "data": {
      "text/plain": [
       "1911"
      ]
     },
     "execution_count": 14,
     "metadata": {},
     "output_type": "execute_result"
    }
   ],
   "source": [
    "dataframe_pollution_juinB2018 = dataframe_pollution.filter((dataframe_pollution.Annee ==\"2018\") & (dataframe_pollution.Mois ==\"juin\") & (dataframe_pollution.Qualite == \"Bonne\")).count()\n",
    "print(\"Bonne : \",dataframe_pollution_juinB2018)\n",
    "dataframe_pollution_juinEM2018 = dataframe_pollution.filter((dataframe_pollution.Annee ==\"2018\") & (dataframe_pollution.Mois ==\"juin\") & (dataframe_pollution.Qualite == \"Extremement mauvaise\")).count()\n",
    "print(\"Extremement mauvaise : \",dataframe_pollution_juinEM2018)\n",
    "dataframe_pollution_juinMA2018 = dataframe_pollution.filter((dataframe_pollution.Annee ==\"2018\") & (dataframe_pollution.Mois ==\"juin\") & (dataframe_pollution.Qualite == \"Mauvaise\")).count()\n",
    "print(\"Mauvaise : \" , dataframe_pollution_juinMA2018)\n",
    "dataframe_pollution_juinMO2018 = dataframe_pollution.filter((dataframe_pollution.Annee ==\"2018\") & (dataframe_pollution.Mois ==\"juin\") & (dataframe_pollution.Qualite == \"Moyenne\")).count()\n",
    "print(\"Moyenne: \" , dataframe_pollution_juinMO2018)\n",
    "dataframe_pollution_juinD2018 = dataframe_pollution.filter((dataframe_pollution.Annee ==\"2018\") & (dataframe_pollution.Mois ==\"juin\") & (dataframe_pollution.Qualite == \"Degradee\")).count()\n",
    "print(\"Degradee : \" , dataframe_pollution_juinD2018)\n",
    "max(dataframe_pollution_juinB2018 , dataframe_pollution_juinEM2018 , dataframe_pollution_juinMA2018 , dataframe_pollution_juinMO2018 ,  dataframe_pollution_juinD2018)"
   ]
  },
  {
   "cell_type": "code",
   "execution_count": 15,
   "id": "2cc0caaa",
   "metadata": {},
   "outputs": [
    {
     "name": "stdout",
     "output_type": "stream",
     "text": [
      "Bonne :  0\n",
      "Extremement mauvaise :  1281\n",
      "Mauvaise :  1104\n",
      "Moyenne:  0\n",
      "Degradee :  1698\n"
     ]
    },
    {
     "data": {
      "text/plain": [
       "1698"
      ]
     },
     "execution_count": 15,
     "metadata": {},
     "output_type": "execute_result"
    }
   ],
   "source": [
    "dataframe_pollution_juilletB2018 = dataframe_pollution.filter((dataframe_pollution.Annee ==\"2018\") & (dataframe_pollution.Mois ==\"juillet\") & (dataframe_pollution.Qualite == \"Bonne\")).count()\n",
    "print(\"Bonne : \",dataframe_pollution_juilletB2018)\n",
    "dataframe_pollution_juilletEM2018 = dataframe_pollution.filter((dataframe_pollution.Annee ==\"2018\") & (dataframe_pollution.Mois ==\"juillet\") & (dataframe_pollution.Qualite == \"Extremement mauvaise\")).count()\n",
    "print(\"Extremement mauvaise : \",dataframe_pollution_juilletEM2018)\n",
    "dataframe_pollution_juilletMA2018 = dataframe_pollution.filter((dataframe_pollution.Annee ==\"2018\") & (dataframe_pollution.Mois ==\"juillet\") & (dataframe_pollution.Qualite == \"Mauvaise\")).count()\n",
    "print(\"Mauvaise : \" , dataframe_pollution_juilletMA2018)\n",
    "dataframe_pollution_juilletMO2018 = dataframe_pollution.filter((dataframe_pollution.Annee ==\"2018\") & (dataframe_pollution.Mois ==\"juillet\") & (dataframe_pollution.Qualite == \"Moyenne\")).count()\n",
    "print(\"Moyenne: \" , dataframe_pollution_juilletMO2018)\n",
    "dataframe_pollution_juilletD2018 = dataframe_pollution.filter((dataframe_pollution.Annee ==\"2018\") & (dataframe_pollution.Mois ==\"juillet\") & (dataframe_pollution.Qualite == \"Degradee\")).count()\n",
    "print(\"Degradee : \" , dataframe_pollution_juilletD2018)\n",
    "max(dataframe_pollution_juilletB2018 , dataframe_pollution_juilletEM2018 , dataframe_pollution_juilletMA2018 , dataframe_pollution_juilletMO2018 ,  dataframe_pollution_juilletD2018)"
   ]
  },
  {
   "cell_type": "code",
   "execution_count": 16,
   "id": "78a8c492",
   "metadata": {},
   "outputs": [
    {
     "name": "stdout",
     "output_type": "stream",
     "text": [
      "Bonne :  0\n",
      "Extremement mauvaise :  3214\n",
      "Mauvaise :  126\n",
      "Moyenne:  0\n",
      "Degradee :  805\n"
     ]
    },
    {
     "data": {
      "text/plain": [
       "3214"
      ]
     },
     "execution_count": 16,
     "metadata": {},
     "output_type": "execute_result"
    }
   ],
   "source": [
    "dataframe_pollution_aoutB2018 = dataframe_pollution.filter((dataframe_pollution.Annee ==\"2018\") & (dataframe_pollution.Mois ==\"aout\") & (dataframe_pollution.Qualite == \"Bonne\")).count()\n",
    "print(\"Bonne : \",dataframe_pollution_aoutB2018)\n",
    "dataframe_pollution_aoutEM2018 = dataframe_pollution.filter((dataframe_pollution.Annee ==\"2018\") & (dataframe_pollution.Mois ==\"aout\") & (dataframe_pollution.Qualite == \"Extremement mauvaise\")).count()\n",
    "print(\"Extremement mauvaise : \",dataframe_pollution_aoutEM2018)\n",
    "dataframe_pollution_aoutMA2018 = dataframe_pollution.filter((dataframe_pollution.Annee ==\"2018\") & (dataframe_pollution.Mois ==\"aout\") & (dataframe_pollution.Qualite == \"Mauvaise\")).count()\n",
    "print(\"Mauvaise : \" , dataframe_pollution_aoutMA2018)\n",
    "dataframe_pollution_aoutMO2018 = dataframe_pollution.filter((dataframe_pollution.Annee ==\"2018\") & (dataframe_pollution.Mois ==\"aout\") & (dataframe_pollution.Qualite == \"Moyenne\")).count()\n",
    "print(\"Moyenne: \" , dataframe_pollution_aoutMO2018)\n",
    "dataframe_pollution_aoutD2018 = dataframe_pollution.filter((dataframe_pollution.Annee ==\"2018\") & (dataframe_pollution.Mois ==\"aout\") & (dataframe_pollution.Qualite == \"Degradee\")).count()\n",
    "print(\"Degradee : \" , dataframe_pollution_aoutD2018)\n",
    "max(dataframe_pollution_aoutB2018 , dataframe_pollution_aoutEM2018 , dataframe_pollution_aoutMA2018 , dataframe_pollution_aoutMO2018 ,  dataframe_pollution_aoutD2018)"
   ]
  },
  {
   "cell_type": "code",
   "execution_count": 17,
   "id": "7bcf9ee8",
   "metadata": {},
   "outputs": [
    {
     "name": "stdout",
     "output_type": "stream",
     "text": [
      "Bonne :  17\n",
      "Extremement mauvaise :  98\n",
      "Mauvaise :  315\n",
      "Moyenne:  1097\n",
      "Degradee :  1236\n"
     ]
    },
    {
     "data": {
      "text/plain": [
       "1236"
      ]
     },
     "execution_count": 17,
     "metadata": {},
     "output_type": "execute_result"
    }
   ],
   "source": [
    "dataframe_pollution_septembreB2018 = dataframe_pollution.filter((dataframe_pollution.Annee ==\"2018\") & (dataframe_pollution.Mois ==\"septembre\") & (dataframe_pollution.Qualite == \"Bonne\")).count()\n",
    "print(\"Bonne : \",dataframe_pollution_septembreB2018)\n",
    "dataframe_pollution_septembreEM2018 = dataframe_pollution.filter((dataframe_pollution.Annee ==\"2018\") & (dataframe_pollution.Mois ==\"septembre\") & (dataframe_pollution.Qualite == \"Extremement mauvaise\")).count()\n",
    "print(\"Extremement mauvaise : \",dataframe_pollution_septembreEM2018)\n",
    "dataframe_pollution_septembreMA2018 = dataframe_pollution.filter((dataframe_pollution.Annee ==\"2018\") & (dataframe_pollution.Mois ==\"septembre\") & (dataframe_pollution.Qualite == \"Mauvaise\")).count()\n",
    "print(\"Mauvaise : \" , dataframe_pollution_septembreMA2018)\n",
    "dataframe_pollution_septembreMO2018 = dataframe_pollution.filter((dataframe_pollution.Annee ==\"2018\") & (dataframe_pollution.Mois ==\"septembre\") & (dataframe_pollution.Qualite == \"Moyenne\")).count()\n",
    "print(\"Moyenne: \" , dataframe_pollution_septembreMO2018)\n",
    "dataframe_pollution_septembreD2018 = dataframe_pollution.filter((dataframe_pollution.Annee ==\"2018\") & (dataframe_pollution.Mois ==\"septembre\") & (dataframe_pollution.Qualite == \"Degradee\")).count()\n",
    "print(\"Degradee : \" , dataframe_pollution_septembreD2018)\n",
    "max(dataframe_pollution_septembreB2018 , dataframe_pollution_septembreEM2018 , dataframe_pollution_septembreMA2018 , dataframe_pollution_septembreMO2018 ,  dataframe_pollution_septembreD2018)"
   ]
  },
  {
   "cell_type": "code",
   "execution_count": 18,
   "id": "554bfc8c",
   "metadata": {},
   "outputs": [
    {
     "name": "stdout",
     "output_type": "stream",
     "text": [
      "Bonne :  0\n",
      "Extremement mauvaise :  30\n",
      "Mauvaise :  2459\n",
      "Moyenne:  1543\n",
      "Degradee :  48\n"
     ]
    },
    {
     "data": {
      "text/plain": [
       "2459"
      ]
     },
     "execution_count": 18,
     "metadata": {},
     "output_type": "execute_result"
    }
   ],
   "source": [
    "dataframe_pollution_octobreTM2018 = dataframe_pollution.filter((dataframe_pollution.Annee ==\"2018\") & (dataframe_pollution.Mois ==\"octobre\") & (dataframe_pollution.Qualite == \"Bonne\")).count()\n",
    "print(\"Bonne : \" , dataframe_pollution_octobreTM2018)\n",
    "dataframe_pollution_octobreEM2018 = dataframe_pollution.filter((dataframe_pollution.Annee ==\"2018\") & (dataframe_pollution.Mois ==\"octobre\") & (dataframe_pollution.Qualite == \"Extremement mauvaise\")).count()\n",
    "print(\"Extremement mauvaise : \",dataframe_pollution_octobreEM2018)\n",
    "dataframe_pollution_octobreMA2018 = dataframe_pollution.filter((dataframe_pollution.Annee ==\"2018\") & (dataframe_pollution.Mois ==\"octobre\") & (dataframe_pollution.Qualite == \"Mauvaise\")).count()\n",
    "print(\"Mauvaise : \" , dataframe_pollution_octobreMA2018)\n",
    "dataframe_pollution_octobreMO2018 = dataframe_pollution.filter((dataframe_pollution.Annee ==\"2018\") & (dataframe_pollution.Mois ==\"octobre\") & (dataframe_pollution.Qualite == \"Moyenne\")).count()\n",
    "print(\"Moyenne: \" , dataframe_pollution_octobreMO2018)\n",
    "dataframe_pollution_octobreD2018 = dataframe_pollution.filter((dataframe_pollution.Annee ==\"2018\") & (dataframe_pollution.Mois ==\"octobre\") & (dataframe_pollution.Qualite == \"Degradee\")).count()\n",
    "print(\"Degradee : \" , dataframe_pollution_octobreD2018)\n",
    "max(dataframe_pollution_octobreTM2018 , dataframe_pollution_octobreEM2018 , dataframe_pollution_octobreMA2018 , dataframe_pollution_octobreMO2018 ,  dataframe_pollution_octobreD2018)\n"
   ]
  },
  {
   "cell_type": "code",
   "execution_count": 19,
   "id": "514a30ce",
   "metadata": {},
   "outputs": [
    {
     "name": "stdout",
     "output_type": "stream",
     "text": [
      "Bonne :  0\n",
      "Extremement mauvaise :  77\n",
      "Mauvaise :  1326\n",
      "Moyenne:  763\n",
      "Degradee :  594\n"
     ]
    },
    {
     "data": {
      "text/plain": [
       "1326"
      ]
     },
     "execution_count": 19,
     "metadata": {},
     "output_type": "execute_result"
    }
   ],
   "source": [
    "dataframe_pollution_novembreTM2018 = dataframe_pollution.filter((dataframe_pollution.Annee ==\"2018\") & (dataframe_pollution.Mois ==\"novembre\") & (dataframe_pollution.Qualite == \"Bonne\")).count()\n",
    "print(\"Bonne : \" , dataframe_pollution_novembreTM2018)\n",
    "dataframe_pollution_novembreEM2018 = dataframe_pollution.filter((dataframe_pollution.Annee ==\"2018\") & (dataframe_pollution.Mois ==\"novembre\") & (dataframe_pollution.Qualite == \"Extremement mauvaise\")).count()\n",
    "print(\"Extremement mauvaise : \",dataframe_pollution_novembreEM2018)\n",
    "dataframe_pollution_novembreMA2018 = dataframe_pollution.filter((dataframe_pollution.Annee ==\"2018\") & (dataframe_pollution.Mois ==\"novembre\") & (dataframe_pollution.Qualite == \"Mauvaise\")).count()\n",
    "print(\"Mauvaise : \" , dataframe_pollution_novembreMA2018)\n",
    "dataframe_pollution_novembreMO2018 = dataframe_pollution.filter((dataframe_pollution.Annee ==\"2018\") & (dataframe_pollution.Mois ==\"novembre\") & (dataframe_pollution.Qualite == \"Moyenne\")).count()\n",
    "print(\"Moyenne: \" , dataframe_pollution_novembreMO2018)\n",
    "dataframe_pollution_novembreD2018 = dataframe_pollution.filter((dataframe_pollution.Annee ==\"2018\") & (dataframe_pollution.Mois ==\"novembre\") & (dataframe_pollution.Qualite == \"Degradee\")).count()\n",
    "print(\"Degradee : \" , dataframe_pollution_novembreD2018)\n",
    "max(dataframe_pollution_novembreTM2018 , dataframe_pollution_novembreEM2018 , dataframe_pollution_novembreMA2018 , dataframe_pollution_novembreMO2018 ,  dataframe_pollution_novembreD2018)"
   ]
  },
  {
   "cell_type": "code",
   "execution_count": 20,
   "id": "c1a1d47e",
   "metadata": {},
   "outputs": [
    {
     "name": "stdout",
     "output_type": "stream",
     "text": [
      "Bonne :  1\n",
      "Extremement mauvaise :  1051\n",
      "Mauvaise :  391\n",
      "Moyenne:  600\n",
      "Degradee :  706\n"
     ]
    },
    {
     "data": {
      "text/plain": [
       "1051"
      ]
     },
     "execution_count": 20,
     "metadata": {},
     "output_type": "execute_result"
    }
   ],
   "source": [
    "dataframe_pollution_decembreTM2018 = dataframe_pollution.filter((dataframe_pollution.Annee ==\"2018\") & (dataframe_pollution.Mois ==\"decembre\") & (dataframe_pollution.Qualite == \"Bonne\")).count()\n",
    "print(\"Bonne : \" , dataframe_pollution_decembreTM2018)\n",
    "dataframe_pollution_decembreEM2018 = dataframe_pollution.filter((dataframe_pollution.Annee ==\"2018\") & (dataframe_pollution.Mois ==\"decembre\") & (dataframe_pollution.Qualite == \"Extremement mauvaise\")).count()\n",
    "print(\"Extremement mauvaise : \",dataframe_pollution_decembreEM2018)\n",
    "dataframe_pollution_decembreMA2018 = dataframe_pollution.filter((dataframe_pollution.Annee ==\"2018\") & (dataframe_pollution.Mois ==\"decembre\") & (dataframe_pollution.Qualite == \"Mauvaise\")).count()\n",
    "print(\"Mauvaise : \" , dataframe_pollution_decembreMA2018)\n",
    "dataframe_pollution_decembreMO2018 = dataframe_pollution.filter((dataframe_pollution.Annee ==\"2018\") & (dataframe_pollution.Mois ==\"decembre\") & (dataframe_pollution.Qualite == \"Moyenne\")).count()\n",
    "print(\"Moyenne: \" , dataframe_pollution_decembreMO2018)\n",
    "dataframe_pollution_decembreD2018 = dataframe_pollution.filter((dataframe_pollution.Annee ==\"2018\") & (dataframe_pollution.Mois ==\"decembre\") & (dataframe_pollution.Qualite == \"Degradee\")).count()\n",
    "print(\"Degradee : \" , dataframe_pollution_decembreD2018)\n",
    "max(dataframe_pollution_decembreTM2018 , dataframe_pollution_decembreEM2018 , dataframe_pollution_decembreMA2018 , dataframe_pollution_decembreMO2018 ,  dataframe_pollution_decembreD2018)"
   ]
  },
  {
   "cell_type": "code",
   "execution_count": 21,
   "id": "54630ea6",
   "metadata": {},
   "outputs": [
    {
     "name": "stdout",
     "output_type": "stream",
     "text": [
      "Bonne :  0\n",
      "Extremement mauvaise :  4372\n",
      "Mauvaise :  1391\n",
      "Moyenne:  0\n",
      "Degradee :  2493\n"
     ]
    },
    {
     "data": {
      "text/plain": [
       "4372"
      ]
     },
     "execution_count": 21,
     "metadata": {},
     "output_type": "execute_result"
    }
   ],
   "source": [
    "dataframe_pollution_janvierTM2019 = dataframe_pollution.filter((dataframe_pollution.Annee ==\"2019\") & (dataframe_pollution.Mois ==\"Janvier\") & (dataframe_pollution.Qualite == \"Bonne\")).count()\n",
    "print(\"Bonne : \" , dataframe_pollution_janvierTM2019)\n",
    "dataframe_pollution_janvierEM2019 = dataframe_pollution.filter((dataframe_pollution.Annee ==\"2019\") & (dataframe_pollution.Mois ==\"Janvier\") & (dataframe_pollution.Qualite == \"Extremement mauvaise\")).count()\n",
    "print(\"Extremement mauvaise : \",dataframe_pollution_janvierEM2019)\n",
    "dataframe_pollution_janvierMA2019 = dataframe_pollution.filter((dataframe_pollution.Annee ==\"2019\") & (dataframe_pollution.Mois ==\"Janvier\") & (dataframe_pollution.Qualite == \"Mauvaise\")).count()\n",
    "print(\"Mauvaise : \" , dataframe_pollution_janvierMA2019)\n",
    "dataframe_pollution_janvierMO2019 = dataframe_pollution.filter((dataframe_pollution.Annee ==\"2019\") & (dataframe_pollution.Mois ==\"Janvier\") & (dataframe_pollution.Qualite == \"Moyenne\")).count()\n",
    "print(\"Moyenne: \" , dataframe_pollution_janvierMO2019)\n",
    "dataframe_pollution_janvierD2019 = dataframe_pollution.filter((dataframe_pollution.Annee ==\"2019\") & (dataframe_pollution.Mois ==\"Janvier\") & (dataframe_pollution.Qualite == \"Degradee\")).count()\n",
    "print(\"Degradee : \" , dataframe_pollution_janvierD2019)\n",
    "max(dataframe_pollution_janvierTM2019 , dataframe_pollution_janvierEM2019 , dataframe_pollution_janvierMA2019 , dataframe_pollution_janvierMO2019 ,  dataframe_pollution_janvierD2019)"
   ]
  },
  {
   "cell_type": "code",
   "execution_count": 22,
   "id": "3113ad60",
   "metadata": {},
   "outputs": [
    {
     "name": "stdout",
     "output_type": "stream",
     "text": [
      "Bonne :  1992\n",
      "Extremement mauvaise :  0\n",
      "Mauvaise :  632\n",
      "Moyenne:  1525\n",
      "Degradee :  0\n"
     ]
    },
    {
     "data": {
      "text/plain": [
       "1992"
      ]
     },
     "execution_count": 22,
     "metadata": {},
     "output_type": "execute_result"
    }
   ],
   "source": [
    "dataframe_pollution_fevrierTM2019 = dataframe_pollution.filter((dataframe_pollution.Annee ==\"2019\") & (dataframe_pollution.Mois ==\"fevrier\") & (dataframe_pollution.Qualite == \"Bonne\")).count()\n",
    "print(\"Bonne : \" , dataframe_pollution_fevrierTM2019)\n",
    "dataframe_pollution_fevrierEM2019 = dataframe_pollution.filter((dataframe_pollution.Annee ==\"2019\") & (dataframe_pollution.Mois ==\"fevrier\") & (dataframe_pollution.Qualite == \"Extremement mauvaise\")).count()\n",
    "print(\"Extremement mauvaise : \",dataframe_pollution_fevrierEM2019)\n",
    "dataframe_pollution_fevrierMA2019 = dataframe_pollution.filter((dataframe_pollution.Annee ==\"2019\") & (dataframe_pollution.Mois ==\"fevrier\") & (dataframe_pollution.Qualite == \"Mauvaise\")).count()\n",
    "print(\"Mauvaise : \" , dataframe_pollution_fevrierMA2019)\n",
    "dataframe_pollution_fevrierMO2019 = dataframe_pollution.filter((dataframe_pollution.Annee ==\"2019\") & (dataframe_pollution.Mois ==\"fevrier\") & (dataframe_pollution.Qualite == \"Moyenne\")).count()\n",
    "print(\"Moyenne: \" , dataframe_pollution_fevrierMO2019)\n",
    "dataframe_pollution_fevrierD2019 = dataframe_pollution.filter((dataframe_pollution.Annee ==\"2019\") & (dataframe_pollution.Mois ==\"fevrier\") & (dataframe_pollution.Qualite == \"Degradee\")).count()\n",
    "print(\"Degradee : \" , dataframe_pollution_fevrierD2019)\n",
    "max(dataframe_pollution_fevrierTM2019 , dataframe_pollution_fevrierEM2019 , dataframe_pollution_fevrierMA2019 , dataframe_pollution_fevrierMO2019 ,  dataframe_pollution_fevrierD2019)"
   ]
  },
  {
   "cell_type": "code",
   "execution_count": 23,
   "id": "8e1e6d62",
   "metadata": {},
   "outputs": [
    {
     "name": "stdout",
     "output_type": "stream",
     "text": [
      "Bonne :  577\n",
      "Extremement mauvaise :  0\n",
      "Mauvaise :  683\n",
      "Moyenne:  2861\n",
      "Degradee :  0\n"
     ]
    },
    {
     "data": {
      "text/plain": [
       "2861"
      ]
     },
     "execution_count": 23,
     "metadata": {},
     "output_type": "execute_result"
    }
   ],
   "source": [
    "dataframe_pollution_marsTM2019 = dataframe_pollution.filter((dataframe_pollution.Annee ==\"2019\") & (dataframe_pollution.Mois ==\"mars\") & (dataframe_pollution.Qualite == \"Bonne\")).count()\n",
    "print(\"Bonne : \" , dataframe_pollution_marsTM2019)\n",
    "dataframe_pollution_marsEM2019 = dataframe_pollution.filter((dataframe_pollution.Annee ==\"2019\") & (dataframe_pollution.Mois ==\"mars\") & (dataframe_pollution.Qualite == \"Extremement mauvaise\")).count()\n",
    "print(\"Extremement mauvaise : \",dataframe_pollution_marsEM2019)\n",
    "dataframe_pollution_marsMA2019 = dataframe_pollution.filter((dataframe_pollution.Annee ==\"2019\") & (dataframe_pollution.Mois ==\"mars\") & (dataframe_pollution.Qualite == \"Mauvaise\")).count()\n",
    "print(\"Mauvaise : \" , dataframe_pollution_marsMA2019)\n",
    "dataframe_pollution_marsMO2019 = dataframe_pollution.filter((dataframe_pollution.Annee ==\"2019\") & (dataframe_pollution.Mois ==\"mars\") & (dataframe_pollution.Qualite == \"Moyenne\")).count()\n",
    "print(\"Moyenne: \" , dataframe_pollution_marsMO2019)\n",
    "dataframe_pollution_marsD2019 = dataframe_pollution.filter((dataframe_pollution.Annee ==\"2019\") & (dataframe_pollution.Mois ==\"mars\") & (dataframe_pollution.Qualite == \"Degradee\")).count()\n",
    "print(\"Degradee : \" , dataframe_pollution_marsD2019)\n",
    "max(dataframe_pollution_marsTM2019 , dataframe_pollution_marsEM2019 , dataframe_pollution_marsMA2019 , dataframe_pollution_marsMO2019 ,  dataframe_pollution_marsD2019)"
   ]
  },
  {
   "cell_type": "code",
   "execution_count": 24,
   "id": "9644d30e",
   "metadata": {},
   "outputs": [
    {
     "name": "stdout",
     "output_type": "stream",
     "text": [
      "Bonne :  1813\n",
      "Extremement mauvaise :  0\n",
      "Mauvaise :  893\n",
      "Moyenne:  1431\n",
      "Degradee :  0\n"
     ]
    },
    {
     "data": {
      "text/plain": [
       "1813"
      ]
     },
     "execution_count": 24,
     "metadata": {},
     "output_type": "execute_result"
    }
   ],
   "source": [
    "dataframe_pollution_AvrilTM2019 = dataframe_pollution.filter((dataframe_pollution.Annee ==\"2019\") & (dataframe_pollution.Mois ==\"Avril\") & (dataframe_pollution.Qualite == \"Bonne\")).count()\n",
    "print(\"Bonne : \" , dataframe_pollution_AvrilTM2019)\n",
    "dataframe_pollution_AvrilEM2019 = dataframe_pollution.filter((dataframe_pollution.Annee ==\"2019\") & (dataframe_pollution.Mois ==\"Avril\") & (dataframe_pollution.Qualite == \"Extremement mauvaise\")).count()\n",
    "print(\"Extremement mauvaise : \",dataframe_pollution_AvrilEM2019)\n",
    "dataframe_pollution_AvrilMA2019 = dataframe_pollution.filter((dataframe_pollution.Annee ==\"2019\") & (dataframe_pollution.Mois ==\"Avril\") & (dataframe_pollution.Qualite == \"Mauvaise\")).count()\n",
    "print(\"Mauvaise : \" , dataframe_pollution_AvrilMA2019)\n",
    "dataframe_pollution_AvrilMO2019 = dataframe_pollution.filter((dataframe_pollution.Annee ==\"2019\") & (dataframe_pollution.Mois ==\"Avril\") & (dataframe_pollution.Qualite == \"Moyenne\")).count()\n",
    "print(\"Moyenne: \" , dataframe_pollution_AvrilMO2019)\n",
    "dataframe_pollution_AvrilD2019 = dataframe_pollution.filter((dataframe_pollution.Annee ==\"2019\") & (dataframe_pollution.Mois ==\"Avril\") & (dataframe_pollution.Qualite == \"Degradee\")).count()\n",
    "print(\"Degradee : \" , dataframe_pollution_AvrilD2019)\n",
    "max(dataframe_pollution_AvrilTM2019 , dataframe_pollution_AvrilEM2019 , dataframe_pollution_AvrilMA2019 , dataframe_pollution_AvrilMO2019 ,  dataframe_pollution_AvrilD2019)"
   ]
  },
  {
   "cell_type": "code",
   "execution_count": 25,
   "id": "44fdfca7",
   "metadata": {},
   "outputs": [
    {
     "name": "stdout",
     "output_type": "stream",
     "text": [
      "Bonne :  109\n",
      "Extremement mauvaise :  0\n",
      "Mauvaise :  1653\n",
      "Moyenne:  1789\n",
      "Degradee :  546\n"
     ]
    },
    {
     "data": {
      "text/plain": [
       "1789"
      ]
     },
     "execution_count": 25,
     "metadata": {},
     "output_type": "execute_result"
    }
   ],
   "source": [
    "dataframe_pollution_maiTM2019 = dataframe_pollution.filter((dataframe_pollution.Annee ==\"2019\") & (dataframe_pollution.Mois ==\"mai\") & (dataframe_pollution.Qualite == \"Bonne\")).count()\n",
    "print(\"Bonne : \" , dataframe_pollution_maiTM2019)\n",
    "dataframe_pollution_maiEM2019 = dataframe_pollution.filter((dataframe_pollution.Annee ==\"2019\") & (dataframe_pollution.Mois ==\"mai\") & (dataframe_pollution.Qualite == \"Extremement mauvaise\")).count()\n",
    "print(\"Extremement mauvaise : \",dataframe_pollution_maiEM2019)\n",
    "dataframe_pollution_maiMA2019 = dataframe_pollution.filter((dataframe_pollution.Annee ==\"2019\") & (dataframe_pollution.Mois ==\"mai\") & (dataframe_pollution.Qualite == \"Mauvaise\")).count()\n",
    "print(\"Mauvaise : \" , dataframe_pollution_maiMA2019)\n",
    "dataframe_pollution_maiMO2019 = dataframe_pollution.filter((dataframe_pollution.Annee ==\"2019\") & (dataframe_pollution.Mois ==\"mai\") & (dataframe_pollution.Qualite == \"Moyenne\")).count()\n",
    "print(\"Moyenne: \" , dataframe_pollution_maiMO2019)\n",
    "dataframe_pollution_maiD2019 = dataframe_pollution.filter((dataframe_pollution.Annee ==\"2019\") & (dataframe_pollution.Mois ==\"mai\") & (dataframe_pollution.Qualite == \"Degradee\")).count()\n",
    "print(\"Degradee : \" , dataframe_pollution_maiD2019)\n",
    "max(dataframe_pollution_maiTM2019 , dataframe_pollution_maiEM2019 , dataframe_pollution_maiMA2019 , dataframe_pollution_maiMO2019 ,  dataframe_pollution_maiD2019)"
   ]
  },
  {
   "cell_type": "code",
   "execution_count": 26,
   "id": "f7918298",
   "metadata": {},
   "outputs": [
    {
     "name": "stdout",
     "output_type": "stream",
     "text": [
      "Bonne:  0\n",
      "Extremement mauvaise :  0\n",
      "Mauvaise :  1115\n",
      "Moyenne:  1674\n",
      "Degradee :  1308\n"
     ]
    },
    {
     "data": {
      "text/plain": [
       "1674"
      ]
     },
     "execution_count": 26,
     "metadata": {},
     "output_type": "execute_result"
    }
   ],
   "source": [
    "\n",
    "dataframe_pollution_juinTM2019 = dataframe_pollution.filter((dataframe_pollution.Annee ==\"2019\") & (dataframe_pollution.Mois ==\"juin\") & (dataframe_pollution.Qualite == \"Bonne\")).count()\n",
    "print(\"Bonne: \" , dataframe_pollution_juinTM2019)\n",
    "dataframe_pollution_juinEM2019 = dataframe_pollution.filter((dataframe_pollution.Annee ==\"2019\") & (dataframe_pollution.Mois ==\"juin\") & (dataframe_pollution.Qualite == \"Extremement mauvaise\")).count()\n",
    "print(\"Extremement mauvaise : \",dataframe_pollution_juinEM2019)\n",
    "dataframe_pollution_juinMA2019 = dataframe_pollution.filter((dataframe_pollution.Annee ==\"2019\") & (dataframe_pollution.Mois ==\"juin\") & (dataframe_pollution.Qualite == \"Mauvaise\")).count()\n",
    "print(\"Mauvaise : \" , dataframe_pollution_juinMA2019)\n",
    "dataframe_pollution_juinMO2019 = dataframe_pollution.filter((dataframe_pollution.Annee ==\"2019\") & (dataframe_pollution.Mois ==\"juin\") & (dataframe_pollution.Qualite == \"Moyenne\")).count()\n",
    "print(\"Moyenne: \" , dataframe_pollution_juinMO2019)\n",
    "dataframe_pollution_juinD2019 = dataframe_pollution.filter((dataframe_pollution.Annee ==\"2019\") & (dataframe_pollution.Mois ==\"juin\") & (dataframe_pollution.Qualite == \"Degradee\")).count()\n",
    "print(\"Degradee : \" , dataframe_pollution_juinD2019)\n",
    "max(dataframe_pollution_juinTM2019 , dataframe_pollution_juinEM2019 , dataframe_pollution_juinMA2019 , dataframe_pollution_juinMO2019 ,  dataframe_pollution_juinD2019)\n"
   ]
  },
  {
   "cell_type": "code",
   "execution_count": 27,
   "id": "f8251de2",
   "metadata": {},
   "outputs": [
    {
     "name": "stdout",
     "output_type": "stream",
     "text": [
      "Bonne :  0\n",
      "Extremement mauvaise :  2211\n",
      "Mauvaise :  904\n",
      "Moyenne:  0\n",
      "Degradee :  1037\n"
     ]
    },
    {
     "data": {
      "text/plain": [
       "2211"
      ]
     },
     "execution_count": 27,
     "metadata": {},
     "output_type": "execute_result"
    }
   ],
   "source": [
    "\n",
    "dataframe_pollution_juilletTM2019 = dataframe_pollution.filter((dataframe_pollution.Annee ==\"2019\") & (dataframe_pollution.Mois ==\"juillet\") & (dataframe_pollution.Qualite == \"Bonne\")).count()\n",
    "print(\"Bonne : \" , dataframe_pollution_juilletTM2019)\n",
    "dataframe_pollution_juilletEM2019 = dataframe_pollution.filter((dataframe_pollution.Annee ==\"2019\") & (dataframe_pollution.Mois ==\"juillet\") & (dataframe_pollution.Qualite == \"Extremement mauvaise\")).count()\n",
    "print(\"Extremement mauvaise : \",dataframe_pollution_juilletEM2019)\n",
    "dataframe_pollution_juilletMA2019 = dataframe_pollution.filter((dataframe_pollution.Annee ==\"2019\") & (dataframe_pollution.Mois ==\"juillet\") & (dataframe_pollution.Qualite == \"Mauvaise\")).count()\n",
    "print(\"Mauvaise : \" , dataframe_pollution_juilletMA2019)\n",
    "dataframe_pollution_juilletMO2019 = dataframe_pollution.filter((dataframe_pollution.Annee ==\"2019\") & (dataframe_pollution.Mois ==\"juillet\") & (dataframe_pollution.Qualite == \"Moyenne\")).count()\n",
    "print(\"Moyenne: \" , dataframe_pollution_juilletMO2019)\n",
    "dataframe_pollution_juilletD2019 = dataframe_pollution.filter((dataframe_pollution.Annee ==\"2019\") & (dataframe_pollution.Mois ==\"juillet\") & (dataframe_pollution.Qualite == \"Degradee\")).count()\n",
    "print(\"Degradee : \" , dataframe_pollution_juilletD2019)\n",
    "max(dataframe_pollution_juilletTM2019 , dataframe_pollution_juilletEM2019 , dataframe_pollution_juilletMA2019 , dataframe_pollution_juilletMO2019 ,  dataframe_pollution_juilletD2019)\n"
   ]
  },
  {
   "cell_type": "code",
   "execution_count": 28,
   "id": "40518ec2",
   "metadata": {},
   "outputs": [
    {
     "name": "stdout",
     "output_type": "stream",
     "text": [
      "Bonne :  0\n",
      "Extremement mauvaise :  2515\n",
      "Mauvaise :  588\n",
      "Moyenne:  0\n",
      "Degradee :  992\n"
     ]
    },
    {
     "data": {
      "text/plain": [
       "2515"
      ]
     },
     "execution_count": 28,
     "metadata": {},
     "output_type": "execute_result"
    }
   ],
   "source": [
    "\n",
    "dataframe_pollution_aoutTM2019 = dataframe_pollution.filter((dataframe_pollution.Annee ==\"2019\") & (dataframe_pollution.Mois ==\"aout\") & (dataframe_pollution.Qualite == \"Bonne\")).count()\n",
    "print(\"Bonne : \" , dataframe_pollution_aoutTM2019)\n",
    "dataframe_pollution_aoutEM2019 = dataframe_pollution.filter((dataframe_pollution.Annee ==\"2019\") & (dataframe_pollution.Mois ==\"aout\") & (dataframe_pollution.Qualite == \"Extremement mauvaise\")).count()\n",
    "print(\"Extremement mauvaise : \",dataframe_pollution_aoutEM2019)\n",
    "dataframe_pollution_aoutMA2019 = dataframe_pollution.filter((dataframe_pollution.Annee ==\"2019\") & (dataframe_pollution.Mois ==\"aout\") & (dataframe_pollution.Qualite == \"Mauvaise\")).count()\n",
    "print(\"Mauvaise : \" , dataframe_pollution_aoutMA2019)\n",
    "dataframe_pollution_aoutMO2019 = dataframe_pollution.filter((dataframe_pollution.Annee ==\"2019\") & (dataframe_pollution.Mois ==\"aout\") & (dataframe_pollution.Qualite == \"Moyenne\")).count()\n",
    "print(\"Moyenne: \" , dataframe_pollution_aoutMO2019)\n",
    "dataframe_pollution_aoutD2019 = dataframe_pollution.filter((dataframe_pollution.Annee ==\"2019\") & (dataframe_pollution.Mois ==\"aout\") & (dataframe_pollution.Qualite == \"Degradee\")).count()\n",
    "print(\"Degradee : \" , dataframe_pollution_aoutD2019)\n",
    "max(dataframe_pollution_aoutTM2019 , dataframe_pollution_aoutEM2019 , dataframe_pollution_aoutMA2019 , dataframe_pollution_aoutMO2019 ,  dataframe_pollution_aoutD2019)\n"
   ]
  },
  {
   "cell_type": "code",
   "execution_count": 29,
   "id": "42ab72b1",
   "metadata": {},
   "outputs": [
    {
     "name": "stdout",
     "output_type": "stream",
     "text": [
      "Bonne :  191\n",
      "Extremement mauvaise :  0\n",
      "Mauvaise :  444\n",
      "Moyenne:  915\n",
      "Degradee :  1138\n"
     ]
    },
    {
     "data": {
      "text/plain": [
       "1138"
      ]
     },
     "execution_count": 29,
     "metadata": {},
     "output_type": "execute_result"
    }
   ],
   "source": [
    "\n",
    "dataframe_pollution_septembreTM2019 = dataframe_pollution.filter((dataframe_pollution.Annee ==\"2019\") & (dataframe_pollution.Mois ==\"septembre\") & (dataframe_pollution.Qualite == \"Bonne\")).count()\n",
    "print(\"Bonne : \" , dataframe_pollution_septembreTM2019)\n",
    "dataframe_pollution_septembreEM2019 = dataframe_pollution.filter((dataframe_pollution.Annee ==\"2019\") & (dataframe_pollution.Mois ==\"septembre\") & (dataframe_pollution.Qualite == \"Extremement mauvaise\")).count()\n",
    "print(\"Extremement mauvaise : \",dataframe_pollution_septembreEM2019)\n",
    "dataframe_pollution_septembreMA2019 = dataframe_pollution.filter((dataframe_pollution.Annee ==\"2019\") & (dataframe_pollution.Mois ==\"septembre\") & (dataframe_pollution.Qualite == \"Mauvaise\")).count()\n",
    "print(\"Mauvaise : \" , dataframe_pollution_septembreMA2019)\n",
    "dataframe_pollution_septembreMO2019 = dataframe_pollution.filter((dataframe_pollution.Annee ==\"2019\") & (dataframe_pollution.Mois ==\"septembre\") & (dataframe_pollution.Qualite == \"Moyenne\")).count()\n",
    "print(\"Moyenne: \" , dataframe_pollution_septembreMO2019)\n",
    "dataframe_pollution_septembreD2019 = dataframe_pollution.filter((dataframe_pollution.Annee ==\"2019\") & (dataframe_pollution.Mois ==\"septembre\") & (dataframe_pollution.Qualite == \"Degradee\")).count()\n",
    "print(\"Degradee : \" , dataframe_pollution_septembreD2019)\n",
    "max(dataframe_pollution_septembreTM2019 , dataframe_pollution_septembreEM2019 , dataframe_pollution_septembreMA2019 , dataframe_pollution_septembreMO2019 ,  dataframe_pollution_septembreD2019)\n"
   ]
  },
  {
   "cell_type": "code",
   "execution_count": 30,
   "id": "329339de",
   "metadata": {},
   "outputs": [
    {
     "name": "stdout",
     "output_type": "stream",
     "text": [
      "Bonne :  529\n",
      "Extremement mauvaise :  0\n",
      "Mauvaise :  982\n",
      "Moyenne:  1325\n",
      "Degradee :  1313\n"
     ]
    },
    {
     "data": {
      "text/plain": [
       "1325"
      ]
     },
     "execution_count": 30,
     "metadata": {},
     "output_type": "execute_result"
    }
   ],
   "source": [
    "\n",
    "dataframe_pollution_octobreTM2019 = dataframe_pollution.filter((dataframe_pollution.Annee ==\"2019\") & (dataframe_pollution.Mois ==\"octobre\") & (dataframe_pollution.Qualite == \"Bonne\")).count()\n",
    "print(\"Bonne : \" , dataframe_pollution_octobreTM2019)\n",
    "dataframe_pollution_octobreEM2019 = dataframe_pollution.filter((dataframe_pollution.Annee ==\"2019\") & (dataframe_pollution.Mois ==\"octobre\") & (dataframe_pollution.Qualite == \"Extremement mauvaise\")).count()\n",
    "print(\"Extremement mauvaise : \",dataframe_pollution_octobreEM2019)\n",
    "dataframe_pollution_octobreMA2019 = dataframe_pollution.filter((dataframe_pollution.Annee ==\"2019\") & (dataframe_pollution.Mois ==\"octobre\") & (dataframe_pollution.Qualite == \"Mauvaise\")).count()\n",
    "print(\"Mauvaise : \" , dataframe_pollution_octobreMA2019)\n",
    "dataframe_pollution_octobreMO2019 = dataframe_pollution.filter((dataframe_pollution.Annee ==\"2019\") & (dataframe_pollution.Mois ==\"octobre\") & (dataframe_pollution.Qualite == \"Moyenne\")).count()\n",
    "print(\"Moyenne: \" , dataframe_pollution_octobreMO2019)\n",
    "dataframe_pollution_octobreD2019 = dataframe_pollution.filter((dataframe_pollution.Annee ==\"2019\") & (dataframe_pollution.Mois ==\"octobre\") & (dataframe_pollution.Qualite == \"Degradee\")).count()\n",
    "print(\"Degradee : \" , dataframe_pollution_octobreD2019)\n",
    "max(dataframe_pollution_octobreTM2019 , dataframe_pollution_octobreEM2019 , dataframe_pollution_octobreMA2019 , dataframe_pollution_octobreMO2019 ,  dataframe_pollution_octobreD2019)\n"
   ]
  },
  {
   "cell_type": "code",
   "execution_count": 31,
   "id": "a7c15227",
   "metadata": {},
   "outputs": [
    {
     "name": "stdout",
     "output_type": "stream",
     "text": [
      "Bonne :  162\n",
      "Extremement mauvaise :  584\n",
      "Mauvaise :  666\n",
      "Moyenne:  0\n",
      "Degradee :  1276\n"
     ]
    },
    {
     "data": {
      "text/plain": [
       "1276"
      ]
     },
     "execution_count": 31,
     "metadata": {},
     "output_type": "execute_result"
    }
   ],
   "source": [
    "\n",
    "dataframe_pollution_novembreTM2019 = dataframe_pollution.filter((dataframe_pollution.Annee ==\"2019\") & (dataframe_pollution.Mois ==\"novembre\") & (dataframe_pollution.Qualite == \"Bonne\")).count()\n",
    "print(\"Bonne : \" , dataframe_pollution_novembreTM2019)\n",
    "dataframe_pollution_novembreEM2019 = dataframe_pollution.filter((dataframe_pollution.Annee ==\"2019\") & (dataframe_pollution.Mois ==\"novembre\") & (dataframe_pollution.Qualite == \"Extremement mauvaise\")).count()\n",
    "print(\"Extremement mauvaise : \",dataframe_pollution_novembreEM2019)\n",
    "dataframe_pollution_novembreMA2019 = dataframe_pollution.filter((dataframe_pollution.Annee ==\"2019\") & (dataframe_pollution.Mois ==\"novembre\") & (dataframe_pollution.Qualite == \"Mauvaise\")).count()\n",
    "print(\"Mauvaise : \" , dataframe_pollution_novembreMA2019)\n",
    "dataframe_pollution_novembreMO2019 = dataframe_pollution.filter((dataframe_pollution.Annee ==\"2019\") & (dataframe_pollution.Mois ==\"novembre\") & (dataframe_pollution.Qualite == \"Moyenne\")).count()\n",
    "print(\"Moyenne: \" , dataframe_pollution_novembreMO2019)\n",
    "dataframe_pollution_novembreD2019 = dataframe_pollution.filter((dataframe_pollution.Annee ==\"2019\") & (dataframe_pollution.Mois ==\"novembre\") & (dataframe_pollution.Qualite == \"Degradee\")).count()\n",
    "print(\"Degradee : \" , dataframe_pollution_novembreD2019)\n",
    "max(dataframe_pollution_novembreTM2019 , dataframe_pollution_novembreEM2019 , dataframe_pollution_novembreMA2019 , dataframe_pollution_novembreMO2019 ,  dataframe_pollution_novembreD2019)\n"
   ]
  },
  {
   "cell_type": "code",
   "execution_count": 32,
   "id": "578433bb",
   "metadata": {},
   "outputs": [
    {
     "name": "stdout",
     "output_type": "stream",
     "text": [
      "Bonne :  0\n",
      "Extremement mauvaise :  1486\n",
      "Mauvaise :  34\n",
      "Moyenne:  540\n",
      "Degradee :  628\n"
     ]
    },
    {
     "data": {
      "text/plain": [
       "1486"
      ]
     },
     "execution_count": 32,
     "metadata": {},
     "output_type": "execute_result"
    }
   ],
   "source": [
    "\n",
    "dataframe_pollution_decembreTM2019 = dataframe_pollution.filter((dataframe_pollution.Annee ==\"2019\") & (dataframe_pollution.Mois ==\"decembre\") & (dataframe_pollution.Qualite == \"Bonne\")).count()\n",
    "print(\"Bonne : \" , dataframe_pollution_decembreTM2019)\n",
    "dataframe_pollution_decembreEM2019 = dataframe_pollution.filter((dataframe_pollution.Annee ==\"2019\") & (dataframe_pollution.Mois ==\"decembre\") & (dataframe_pollution.Qualite == \"Extremement mauvaise\")).count()\n",
    "print(\"Extremement mauvaise : \",dataframe_pollution_decembreEM2019)\n",
    "dataframe_pollution_decembreMA2019 = dataframe_pollution.filter((dataframe_pollution.Annee ==\"2019\") & (dataframe_pollution.Mois ==\"decembre\") & (dataframe_pollution.Qualite == \"Mauvaise\")).count()\n",
    "print(\"Mauvaise : \" , dataframe_pollution_decembreMA2019)\n",
    "dataframe_pollution_decembreMO2019 = dataframe_pollution.filter((dataframe_pollution.Annee ==\"2019\") & (dataframe_pollution.Mois ==\"decembre\") & (dataframe_pollution.Qualite == \"Moyenne\")).count()\n",
    "print(\"Moyenne: \" , dataframe_pollution_decembreMO2019)\n",
    "dataframe_pollution_decembreD2019 = dataframe_pollution.filter((dataframe_pollution.Annee ==\"2019\") & (dataframe_pollution.Mois ==\"decembre\") & (dataframe_pollution.Qualite == \"Degradee\")).count()\n",
    "print(\"Degradee : \" , dataframe_pollution_decembreD2019)\n",
    "max(dataframe_pollution_decembreTM2019 , dataframe_pollution_decembreEM2019 , dataframe_pollution_decembreMA2019 , dataframe_pollution_decembreMO2019 ,  dataframe_pollution_decembreD2019)\n"
   ]
  },
  {
   "cell_type": "code",
   "execution_count": 33,
   "id": "0aa7f9d0",
   "metadata": {},
   "outputs": [
    {
     "name": "stdout",
     "output_type": "stream",
     "text": [
      "Bonne :  88\n",
      "Extremement mauvaise :  3392\n",
      "Mauvaise :  333\n",
      "Moyenne:  910\n",
      "Degradee :  3519\n"
     ]
    },
    {
     "data": {
      "text/plain": [
       "3519"
      ]
     },
     "execution_count": 33,
     "metadata": {},
     "output_type": "execute_result"
    }
   ],
   "source": [
    "\n",
    "dataframe_pollution_janvierTM2020 = dataframe_pollution.filter((dataframe_pollution.Annee ==\"2020\") & (dataframe_pollution.Mois ==\"Janvier\") & (dataframe_pollution.Qualite == \"Bonne\")).count()\n",
    "print(\"Bonne : \" , dataframe_pollution_janvierTM2020)\n",
    "dataframe_pollution_janvierEM2020 = dataframe_pollution.filter((dataframe_pollution.Annee ==\"2020\") & (dataframe_pollution.Mois ==\"Janvier\") & (dataframe_pollution.Qualite == \"Extremement mauvaise\")).count()\n",
    "print(\"Extremement mauvaise : \",dataframe_pollution_janvierEM2020)\n",
    "dataframe_pollution_janvierMA2020 = dataframe_pollution.filter((dataframe_pollution.Annee ==\"2020\") & (dataframe_pollution.Mois ==\"Janvier\") & (dataframe_pollution.Qualite == \"Mauvaise\")).count()\n",
    "print(\"Mauvaise : \" , dataframe_pollution_janvierMA2020)\n",
    "dataframe_pollution_janvierMO2020 = dataframe_pollution.filter((dataframe_pollution.Annee ==\"2020\") & (dataframe_pollution.Mois ==\"Janvier\") & (dataframe_pollution.Qualite == \"Moyenne\")).count()\n",
    "print(\"Moyenne: \" , dataframe_pollution_janvierMO2020)\n",
    "dataframe_pollution_janvierD2020 = dataframe_pollution.filter((dataframe_pollution.Annee ==\"2020\") & (dataframe_pollution.Mois ==\"Janvier\") & (dataframe_pollution.Qualite == \"Degradee\")).count()\n",
    "print(\"Degradee : \" , dataframe_pollution_janvierD2020)\n",
    "max(dataframe_pollution_janvierTM2020 , dataframe_pollution_janvierEM2020 , dataframe_pollution_janvierMA2020 , dataframe_pollution_janvierMO2020 ,  dataframe_pollution_janvierD2020)\n"
   ]
  },
  {
   "cell_type": "code",
   "execution_count": null,
   "id": "e45f690d",
   "metadata": {},
   "outputs": [
    {
     "name": "stdout",
     "output_type": "stream",
     "text": [
      "Bonne :  990\n",
      "Extremement mauvaise :  0\n",
      "Mauvaise :  1051\n"
     ]
    }
   ],
   "source": [
    "\n",
    "dataframe_pollution_fevrierTM2020 = dataframe_pollution.filter((dataframe_pollution.Annee ==\"2020\") & (dataframe_pollution.Mois ==\"fevrier\") & (dataframe_pollution.Qualite == \"Bonne\")).count()\n",
    "print(\"Bonne : \" , dataframe_pollution_fevrierTM2020)\n",
    "dataframe_pollution_fevrierEM2020 = dataframe_pollution.filter((dataframe_pollution.Annee ==\"2020\") & (dataframe_pollution.Mois ==\"fevrier\") & (dataframe_pollution.Qualite == \"Extremement mauvaise\")).count()\n",
    "print(\"Extremement mauvaise : \",dataframe_pollution_fevrierEM2020)\n",
    "dataframe_pollution_fevrierMA2020 = dataframe_pollution.filter((dataframe_pollution.Annee ==\"2020\") & (dataframe_pollution.Mois ==\"fevrier\") & (dataframe_pollution.Qualite == \"Mauvaise\")).count()\n",
    "print(\"Mauvaise : \" , dataframe_pollution_fevrierMA2020)\n",
    "dataframe_pollution_fevrierMO2020 = dataframe_pollution.filter((dataframe_pollution.Annee ==\"2020\") & (dataframe_pollution.Mois ==\"fevrier\") & (dataframe_pollution.Qualite == \"Moyenne\")).count()\n",
    "print(\"Moyenne: \" , dataframe_pollution_fevrierMO2020)\n",
    "dataframe_pollution_fevrierD2020 = dataframe_pollution.filter((dataframe_pollution.Annee ==\"2020\") & (dataframe_pollution.Mois ==\"fevrier\") & (dataframe_pollution.Qualite == \"Degradee\")).count()\n",
    "print(\"Degradee : \" , dataframe_pollution_fevrierD2020)\n",
    "max(dataframe_pollution_fevrierTM2020 , dataframe_pollution_fevrierEM2020 , dataframe_pollution_fevrierMA2020 , dataframe_pollution_fevrierMO2020 ,  dataframe_pollution_fevrierD2020)\n"
   ]
  },
  {
   "cell_type": "code",
   "execution_count": null,
   "id": "258b7a98",
   "metadata": {},
   "outputs": [],
   "source": [
    "\n",
    "dataframe_pollution_marsTM2020 = dataframe_pollution.filter((dataframe_pollution.Annee ==\"2020\") & (dataframe_pollution.Mois ==\"mars\") & (dataframe_pollution.Qualite == \"Bonne\")).count()\n",
    "print(\"Bonne : \" , dataframe_pollution_marsTM2020)\n",
    "dataframe_pollution_marsEM2020 = dataframe_pollution.filter((dataframe_pollution.Annee ==\"2020\") & (dataframe_pollution.Mois ==\"mars\") & (dataframe_pollution.Qualite == \"Extremement mauvaise\")).count()\n",
    "print(\"Extremement mauvaise : \",dataframe_pollution_marsEM2020)\n",
    "dataframe_pollution_marsMA2020 = dataframe_pollution.filter((dataframe_pollution.Annee ==\"2020\") & (dataframe_pollution.Mois ==\"mars\") & (dataframe_pollution.Qualite == \"Mauvaise\")).count()\n",
    "print(\"Mauvaise : \" , dataframe_pollution_marsMA2020)\n",
    "dataframe_pollution_marsMO2020 = dataframe_pollution.filter((dataframe_pollution.Annee ==\"2020\") & (dataframe_pollution.Mois ==\"mars\") & (dataframe_pollution.Qualite == \"Moyenne\")).count()\n",
    "print(\"Moyenne: \" , dataframe_pollution_marsMO2020)\n",
    "dataframe_pollution_marsD2020 = dataframe_pollution.filter((dataframe_pollution.Annee ==\"2020\") & (dataframe_pollution.Mois ==\"mars\") & (dataframe_pollution.Qualite == \"Degradee\")).count()\n",
    "print(\"Degradee : \" , dataframe_pollution_marsD2020)\n",
    "max(dataframe_pollution_marsTM2020 , dataframe_pollution_marsEM2020 , dataframe_pollution_marsMA2020 , dataframe_pollution_marsMO2020 ,  dataframe_pollution_marsD2020)\n"
   ]
  },
  {
   "cell_type": "code",
   "execution_count": null,
   "id": "cc8b7b49",
   "metadata": {},
   "outputs": [],
   "source": [
    "\n",
    "dataframe_pollution_AvrilTM2020 = dataframe_pollution.filter((dataframe_pollution.Annee ==\"2020\") & (dataframe_pollution.Mois ==\"Avril\") & (dataframe_pollution.Qualite == \"Bonne\")).count()\n",
    "print(\"Bonne : \" , dataframe_pollution_AvrilTM2020)\n",
    "dataframe_pollution_AvrilEM2020 = dataframe_pollution.filter((dataframe_pollution.Annee ==\"2020\") & (dataframe_pollution.Mois ==\"Avril\") & (dataframe_pollution.Qualite == \"Extremement mauvaise\")).count()\n",
    "print(\"Extremement mauvaise : \",dataframe_pollution_AvrilEM2020)\n",
    "dataframe_pollution_AvrilMA2020 = dataframe_pollution.filter((dataframe_pollution.Annee ==\"2020\") & (dataframe_pollution.Mois ==\"Avril\") & (dataframe_pollution.Qualite == \"Mauvaise\")).count()\n",
    "print(\"Mauvaise : \" , dataframe_pollution_AvrilMA2020)\n",
    "dataframe_pollution_AvrilMO2020 = dataframe_pollution.filter((dataframe_pollution.Annee ==\"2020\") & (dataframe_pollution.Mois ==\"Avril\") & (dataframe_pollution.Qualite == \"Moyenne\")).count()\n",
    "print(\"Moyenne: \" , dataframe_pollution_AvrilMO2020)\n",
    "dataframe_pollution_AvrilD2020 = dataframe_pollution.filter((dataframe_pollution.Annee ==\"2020\") & (dataframe_pollution.Mois ==\"Avril\") & (dataframe_pollution.Qualite == \"Degradee\")).count()\n",
    "print(\"Degradee : \" , dataframe_pollution_AvrilD2020)\n",
    "max(dataframe_pollution_AvrilTM2020 , dataframe_pollution_AvrilEM2020 , dataframe_pollution_AvrilMA2020 , dataframe_pollution_AvrilMO2020 ,  dataframe_pollution_AvrilD2020)\n"
   ]
  },
  {
   "cell_type": "code",
   "execution_count": null,
   "id": "dff877c5",
   "metadata": {},
   "outputs": [],
   "source": [
    "\n",
    "dataframe_pollution_maiTM2020 = dataframe_pollution.filter((dataframe_pollution.Annee ==\"2020\") & (dataframe_pollution.Mois ==\"mai\") & (dataframe_pollution.Qualite == \"Bonne\")).count()\n",
    "print(\"Bonne : \" , dataframe_pollution_maiTM2020)\n",
    "dataframe_pollution_maiEM2020 = dataframe_pollution.filter((dataframe_pollution.Annee ==\"2020\") & (dataframe_pollution.Mois ==\"mai\") & (dataframe_pollution.Qualite == \"Extremement mauvaise\")).count()\n",
    "print(\"Extremement mauvaise : \",dataframe_pollution_maiEM2020)\n",
    "dataframe_pollution_maiMA2020 = dataframe_pollution.filter((dataframe_pollution.Annee ==\"2020\") & (dataframe_pollution.Mois ==\"mai\") & (dataframe_pollution.Qualite == \"Mauvaise\")).count()\n",
    "print(\"Mauvaise : \" , dataframe_pollution_maiMA2020)\n",
    "dataframe_pollution_maiMO2020 = dataframe_pollution.filter((dataframe_pollution.Annee ==\"2020\") & (dataframe_pollution.Mois ==\"mai\") & (dataframe_pollution.Qualite == \"Moyenne\")).count()\n",
    "print(\"Moyenne: \" , dataframe_pollution_maiMO2020)\n",
    "dataframe_pollution_maiD2020 = dataframe_pollution.filter((dataframe_pollution.Annee ==\"2020\") & (dataframe_pollution.Mois ==\"mai\") & (dataframe_pollution.Qualite == \"Degradee\")).count()\n",
    "print(\"Degradee : \" , dataframe_pollution_maiD2020)\n",
    "max(dataframe_pollution_maiTM2020 , dataframe_pollution_maiEM2020 , dataframe_pollution_maiMA2020 , dataframe_pollution_maiMO2020 ,  dataframe_pollution_maiD2020)\n"
   ]
  },
  {
   "cell_type": "code",
   "execution_count": null,
   "id": "4a54893d",
   "metadata": {},
   "outputs": [],
   "source": [
    "\n",
    "dataframe_pollution_juinTM2020 = dataframe_pollution.filter((dataframe_pollution.Annee ==\"2020\") & (dataframe_pollution.Mois ==\"juin\") & (dataframe_pollution.Qualite == \"Bonne\")).count()\n",
    "print(\"Bonne : \" , dataframe_pollution_juinTM2020)\n",
    "dataframe_pollution_juinEM2020 = dataframe_pollution.filter((dataframe_pollution.Annee ==\"2020\") & (dataframe_pollution.Mois ==\"juin\") & (dataframe_pollution.Qualite == \"Extremement mauvaise\")).count()\n",
    "print(\"Extremement mauvaise : \",dataframe_pollution_juinEM2020)\n",
    "dataframe_pollution_juinMA2020 = dataframe_pollution.filter((dataframe_pollution.Annee ==\"2020\") & (dataframe_pollution.Mois ==\"juin\") & (dataframe_pollution.Qualite == \"Mauvaise\")).count()\n",
    "print(\"Mauvaise : \" , dataframe_pollution_juinMA2020)\n",
    "dataframe_pollution_juinMO2020 = dataframe_pollution.filter((dataframe_pollution.Annee ==\"2020\") & (dataframe_pollution.Mois ==\"juin\") & (dataframe_pollution.Qualite == \"Moyenne\")).count()\n",
    "print(\"Moyenne: \" , dataframe_pollution_juinMO2020)\n",
    "dataframe_pollution_juinD2020 = dataframe_pollution.filter((dataframe_pollution.Annee ==\"2020\") & (dataframe_pollution.Mois ==\"juin\") & (dataframe_pollution.Qualite == \"Degradee\")).count()\n",
    "print(\"Degradee : \" , dataframe_pollution_juinD2020)\n",
    "max(dataframe_pollution_juinTM2020 , dataframe_pollution_juinEM2020 , dataframe_pollution_juinMA2020 , dataframe_pollution_juinMO2020 ,  dataframe_pollution_juinD2020)\n"
   ]
  },
  {
   "cell_type": "code",
   "execution_count": null,
   "id": "2241b1a2",
   "metadata": {},
   "outputs": [],
   "source": [
    "\n",
    "dataframe_pollution_juilletTM2020 = dataframe_pollution.filter((dataframe_pollution.Annee ==\"2020\") & (dataframe_pollution.Mois ==\"juillet\") & (dataframe_pollution.Qualite == \"Bonne\")).count()\n",
    "print(\"Bonne : \" , dataframe_pollution_juilletTM2020)\n",
    "dataframe_pollution_juilletEM2020 = dataframe_pollution.filter((dataframe_pollution.Annee ==\"2020\") & (dataframe_pollution.Mois ==\"juillet\") & (dataframe_pollution.Qualite == \"Extremement mauvaise\")).count()\n",
    "print(\"Extremement mauvaise : \",dataframe_pollution_juilletEM2020)\n",
    "dataframe_pollution_juilletMA2020 = dataframe_pollution.filter((dataframe_pollution.Annee ==\"2020\") & (dataframe_pollution.Mois ==\"juillet\") & (dataframe_pollution.Qualite == \"Mauvaise\")).count()\n",
    "print(\"Mauvaise : \" , dataframe_pollution_juilletMA2020)\n",
    "dataframe_pollution_juilletMO2020 = dataframe_pollution.filter((dataframe_pollution.Annee ==\"2020\") & (dataframe_pollution.Mois ==\"juillet\") & (dataframe_pollution.Qualite == \"Moyenne\")).count()\n",
    "print(\"Moyenne: \" , dataframe_pollution_juilletMO2020)\n",
    "dataframe_pollution_juilletD2020 = dataframe_pollution.filter((dataframe_pollution.Annee ==\"2020\") & (dataframe_pollution.Mois ==\"juillet\") & (dataframe_pollution.Qualite == \"Degradee\")).count()\n",
    "print(\"Degradee : \" , dataframe_pollution_juilletD2020)\n",
    "max(dataframe_pollution_juilletTM2020 , dataframe_pollution_juilletEM2020 , dataframe_pollution_juilletMA2020 , dataframe_pollution_juilletMO2020 ,  dataframe_pollution_juilletD2020)\n"
   ]
  },
  {
   "cell_type": "code",
   "execution_count": null,
   "id": "b09456b4",
   "metadata": {},
   "outputs": [],
   "source": [
    "\n",
    "dataframe_pollution_aoutTM2020 = dataframe_pollution.filter((dataframe_pollution.Annee ==\"2020\") & (dataframe_pollution.Mois ==\"aout\") & (dataframe_pollution.Qualite == \"Bonne\")).count()\n",
    "print(\"Bonne : \" , dataframe_pollution_aoutTM2020)\n",
    "dataframe_pollution_aoutEM2020 = dataframe_pollution.filter((dataframe_pollution.Annee ==\"2020\") & (dataframe_pollution.Mois ==\"aout\") & (dataframe_pollution.Qualite == \"Extremement mauvaise\")).count()\n",
    "print(\"Extremement mauvaise : \",dataframe_pollution_aoutEM2020)\n",
    "dataframe_pollution_aoutMA2020 = dataframe_pollution.filter((dataframe_pollution.Annee ==\"2020\") & (dataframe_pollution.Mois ==\"aout\") & (dataframe_pollution.Qualite == \"Mauvaise\")).count()\n",
    "print(\"Mauvaise : \" , dataframe_pollution_aoutMA2020)\n",
    "dataframe_pollution_aoutMO2020 = dataframe_pollution.filter((dataframe_pollution.Annee ==\"2020\") & (dataframe_pollution.Mois ==\"aout\") & (dataframe_pollution.Qualite == \"Moyenne\")).count()\n",
    "print(\"Moyenne: \" , dataframe_pollution_aoutMO2020)\n",
    "dataframe_pollution_aoutD2020 = dataframe_pollution.filter((dataframe_pollution.Annee ==\"2020\") & (dataframe_pollution.Mois ==\"aout\") & (dataframe_pollution.Qualite == \"Degradee\")).count()\n",
    "print(\"Degradee : \" , dataframe_pollution_aoutD2020)\n",
    "max(dataframe_pollution_aoutTM2020 , dataframe_pollution_aoutEM2020 , dataframe_pollution_aoutMA2020 , dataframe_pollution_aoutMO2020 ,  dataframe_pollution_aoutD2020)\n"
   ]
  },
  {
   "cell_type": "code",
   "execution_count": null,
   "id": "092dfc73",
   "metadata": {},
   "outputs": [],
   "source": [
    "\n",
    "dataframe_pollution_septembreTM2020 = dataframe_pollution.filter((dataframe_pollution.Annee ==\"2020\") & (dataframe_pollution.Mois ==\"septembre\") & (dataframe_pollution.Qualite == \"Bonne\")).count()\n",
    "print(\"Bonne : \" , dataframe_pollution_septembreTM2020)\n",
    "dataframe_pollution_septembreEM2020 = dataframe_pollution.filter((dataframe_pollution.Annee ==\"2020\") & (dataframe_pollution.Mois ==\"septembre\") & (dataframe_pollution.Qualite == \"Extremement mauvaise\")).count()\n",
    "print(\"Extremement mauvaise : \",dataframe_pollution_septembreEM2020)\n",
    "dataframe_pollution_septembreMA2020 = dataframe_pollution.filter((dataframe_pollution.Annee ==\"2020\") & (dataframe_pollution.Mois ==\"septembre\") & (dataframe_pollution.Qualite == \"Mauvaise\")).count()\n",
    "print(\"Mauvaise : \" , dataframe_pollution_septembreMA2020)\n",
    "dataframe_pollution_septembreMO2020 = dataframe_pollution.filter((dataframe_pollution.Annee ==\"2020\") & (dataframe_pollution.Mois ==\"septembre\") & (dataframe_pollution.Qualite == \"Moyenne\")).count()\n",
    "print(\"Moyenne: \" , dataframe_pollution_septembreMO2020)\n",
    "dataframe_pollution_septembreD2020 = dataframe_pollution.filter((dataframe_pollution.Annee ==\"2020\") & (dataframe_pollution.Mois ==\"septembre\") & (dataframe_pollution.Qualite == \"Degradee\")).count()\n",
    "print(\"Degradee : \" , dataframe_pollution_septembreD2020)\n",
    "max(dataframe_pollution_septembreTM2020 , dataframe_pollution_septembreEM2020 , dataframe_pollution_septembreMA2020 , dataframe_pollution_septembreMO2020 ,  dataframe_pollution_septembreD2020)\n"
   ]
  },
  {
   "cell_type": "code",
   "execution_count": null,
   "id": "879bb087",
   "metadata": {},
   "outputs": [],
   "source": [
    "\n",
    "dataframe_pollution_octobreTM2020 = dataframe_pollution.filter((dataframe_pollution.Annee ==\"2020\") & (dataframe_pollution.Mois ==\"octobre\") & (dataframe_pollution.Qualite == \"Bonne\")).count()\n",
    "print(\"Bonne : \" , dataframe_pollution_octobreTM2020)\n",
    "dataframe_pollution_octobreEM2020 = dataframe_pollution.filter((dataframe_pollution.Annee ==\"2020\") & (dataframe_pollution.Mois ==\"octobre\") & (dataframe_pollution.Qualite == \"Extremement mauvaise\")).count()\n",
    "print(\"Extremement mauvaise : \",dataframe_pollution_octobreEM2020)\n",
    "dataframe_pollution_octobreMA2020 = dataframe_pollution.filter((dataframe_pollution.Annee ==\"2020\") & (dataframe_pollution.Mois ==\"octobre\") & (dataframe_pollution.Qualite == \"Mauvaise\")).count()\n",
    "print(\"Mauvaise : \" , dataframe_pollution_octobreMA2020)\n",
    "dataframe_pollution_octobreMO2020 = dataframe_pollution.filter((dataframe_pollution.Annee ==\"2020\") & (dataframe_pollution.Mois ==\"octobre\") & (dataframe_pollution.Qualite == \"Moyenne\")).count()\n",
    "print(\"Moyenne: \" , dataframe_pollution_octobreMO2020)\n",
    "dataframe_pollution_octobreD2020 = dataframe_pollution.filter((dataframe_pollution.Annee ==\"2020\") & (dataframe_pollution.Mois ==\"octobre\") & (dataframe_pollution.Qualite == \"Degradee\")).count()\n",
    "print(\"Degradee : \" , dataframe_pollution_octobreD2020)\n",
    "max(dataframe_pollution_octobreTM2020 , dataframe_pollution_octobreEM2020 , dataframe_pollution_octobreMA2020 , dataframe_pollution_octobreMO2020 ,  dataframe_pollution_octobreD2020)\n"
   ]
  },
  {
   "cell_type": "code",
   "execution_count": null,
   "id": "3dee68a3",
   "metadata": {},
   "outputs": [],
   "source": [
    "\n",
    "dataframe_pollution_novembreTM2020 = dataframe_pollution.filter((dataframe_pollution.Annee ==\"2020\") & (dataframe_pollution.Mois ==\"novembre\") & (dataframe_pollution.Qualite == \"Bonne\")).count()\n",
    "print(\"Bonne : \" , dataframe_pollution_novembreTM2020)\n",
    "dataframe_pollution_novembreEM2020 = dataframe_pollution.filter((dataframe_pollution.Annee ==\"2020\") & (dataframe_pollution.Mois ==\"novembre\") & (dataframe_pollution.Qualite == \"Extremement mauvaise\")).count()\n",
    "print(\"Extremement mauvaise : \",dataframe_pollution_novembreEM2020)\n",
    "dataframe_pollution_novembreMA2020 = dataframe_pollution.filter((dataframe_pollution.Annee ==\"2020\") & (dataframe_pollution.Mois ==\"novembre\") & (dataframe_pollution.Qualite == \"Mauvaise\")).count()\n",
    "print(\"Mauvaise : \" , dataframe_pollution_novembreMA2020)\n",
    "dataframe_pollution_novembreMO2020 = dataframe_pollution.filter((dataframe_pollution.Annee ==\"2020\") & (dataframe_pollution.Mois ==\"novembre\") & (dataframe_pollution.Qualite == \"Moyenne\")).count()\n",
    "print(\"Moyenne: \" , dataframe_pollution_novembreMO2020)\n",
    "dataframe_pollution_novembreD2020 = dataframe_pollution.filter((dataframe_pollution.Annee ==\"2020\") & (dataframe_pollution.Mois ==\"novembre\") & (dataframe_pollution.Qualite == \"Degradee\")).count()\n",
    "print(\"Degradee : \" , dataframe_pollution_novembreD2020)\n",
    "max(dataframe_pollution_novembreTM2020 , dataframe_pollution_novembreEM2020 , dataframe_pollution_novembreMA2020 , dataframe_pollution_novembreMO2020 ,  dataframe_pollution_novembreD2020)\n"
   ]
  },
  {
   "cell_type": "code",
   "execution_count": null,
   "id": "da65c354",
   "metadata": {},
   "outputs": [],
   "source": [
    "\n",
    "dataframe_pollution_decembreTM2020 = dataframe_pollution.filter((dataframe_pollution.Annee ==\"2020\") & (dataframe_pollution.Mois ==\"decembre\") & (dataframe_pollution.Qualite == \"Bonne\")).count()\n",
    "print(\"Bonne : \" , dataframe_pollution_decembreTM2020)\n",
    "dataframe_pollution_decembreEM2020 = dataframe_pollution.filter((dataframe_pollution.Annee ==\"2020\") & (dataframe_pollution.Mois ==\"decembre\") & (dataframe_pollution.Qualite == \"Extremement mauvaise\")).count()\n",
    "print(\"Extremement mauvaise : \",dataframe_pollution_decembreEM2020)\n",
    "dataframe_pollution_decembreMA2020 = dataframe_pollution.filter((dataframe_pollution.Annee ==\"2020\") & (dataframe_pollution.Mois ==\"decembre\") & (dataframe_pollution.Qualite == \"Mauvaise\")).count()\n",
    "print(\"Mauvaise : \" , dataframe_pollution_decembreMA2020)\n",
    "dataframe_pollution_decembreMO2020 = dataframe_pollution.filter((dataframe_pollution.Annee ==\"2020\") & (dataframe_pollution.Mois ==\"decembre\") & (dataframe_pollution.Qualite == \"Moyenne\")).count()\n",
    "print(\"Moyenne: \" , dataframe_pollution_decembreMO2020)\n",
    "dataframe_pollution_decembreD2020 = dataframe_pollution.filter((dataframe_pollution.Annee ==\"2020\") & (dataframe_pollution.Mois ==\"decembre\") & (dataframe_pollution.Qualite == \"Degradee\")).count()\n",
    "print(\"Degradee : \" , dataframe_pollution_decembreD2020)\n",
    "max(dataframe_pollution_decembreTM2020 , dataframe_pollution_decembreEM2020 , dataframe_pollution_decembreMA2020 , dataframe_pollution_decembreMO2020 ,  dataframe_pollution_decembreD2020)\n"
   ]
  },
  {
   "cell_type": "code",
   "execution_count": null,
   "id": "880aa4ca",
   "metadata": {},
   "outputs": [],
   "source": [
    "\n",
    "dataframe_pollution_janvierTM2021 = dataframe_pollution.filter((dataframe_pollution.Annee ==\"2021\") & (dataframe_pollution.Mois ==\"Janvier\") & (dataframe_pollution.Qualite == \"Bonne\")).count()\n",
    "print(\"Bonne : \" , dataframe_pollution_janvierTM2021)\n",
    "dataframe_pollution_janvierEM2021 = dataframe_pollution.filter((dataframe_pollution.Annee ==\"2021\") & (dataframe_pollution.Mois ==\"Janvier\") & (dataframe_pollution.Qualite == \"Extremement mauvaise\")).count()\n",
    "print(\"Extremement mauvaise : \",dataframe_pollution_janvierEM2021)\n",
    "dataframe_pollution_janvierMA2021 = dataframe_pollution.filter((dataframe_pollution.Annee ==\"2021\") & (dataframe_pollution.Mois ==\"Janvier\") & (dataframe_pollution.Qualite == \"Mauvaise\")).count()\n",
    "print(\"Mauvaise : \" , dataframe_pollution_janvierMA2021)\n",
    "dataframe_pollution_janvierMO2021 = dataframe_pollution.filter((dataframe_pollution.Annee ==\"2021\") & (dataframe_pollution.Mois ==\"Janvier\") & (dataframe_pollution.Qualite == \"Moyenne\")).count()\n",
    "print(\"Moyenne: \" , dataframe_pollution_janvierMO2021)\n",
    "dataframe_pollution_janvierD2021 = dataframe_pollution.filter((dataframe_pollution.Annee ==\"2021\") & (dataframe_pollution.Mois ==\"Janvier\") & (dataframe_pollution.Qualite == \"Degradee\")).count()\n",
    "print(\"Degradee : \" , dataframe_pollution_janvierD2021)\n",
    "max(dataframe_pollution_janvierTM2021 , dataframe_pollution_janvierEM2021 , dataframe_pollution_janvierMA2021 , dataframe_pollution_janvierMO2021 ,  dataframe_pollution_janvierD2021)\n"
   ]
  },
  {
   "cell_type": "code",
   "execution_count": null,
   "id": "af7714c1",
   "metadata": {},
   "outputs": [],
   "source": [
    "\n",
    "dataframe_pollution_fevrierTM2021 = dataframe_pollution.filter((dataframe_pollution.Annee ==\"2021\") & (dataframe_pollution.Mois ==\"fevrier\") & (dataframe_pollution.Qualite == \"Bonne\")).count()\n",
    "print(\"Bonne : \" , dataframe_pollution_fevrierTM2021)\n",
    "dataframe_pollution_fevrierEM2021 = dataframe_pollution.filter((dataframe_pollution.Annee ==\"2021\") & (dataframe_pollution.Mois ==\"fevrier\") & (dataframe_pollution.Qualite == \"Extremement mauvaise\")).count()\n",
    "print(\"Extremement mauvaise : \",dataframe_pollution_fevrierEM2021)\n",
    "dataframe_pollution_fevrierMA2021 = dataframe_pollution.filter((dataframe_pollution.Annee ==\"2021\") & (dataframe_pollution.Mois ==\"fevrier\") & (dataframe_pollution.Qualite == \"Mauvaise\")).count()\n",
    "print(\"Mauvaise : \" , dataframe_pollution_fevrierMA2021)\n",
    "dataframe_pollution_fevrierMO2021 = dataframe_pollution.filter((dataframe_pollution.Annee ==\"2021\") & (dataframe_pollution.Mois ==\"fevrier\") & (dataframe_pollution.Qualite == \"Moyenne\")).count()\n",
    "print(\"Moyenne: \" , dataframe_pollution_fevrierMO2021)\n",
    "dataframe_pollution_fevrierD2021 = dataframe_pollution.filter((dataframe_pollution.Annee ==\"2021\") & (dataframe_pollution.Mois ==\"fevrier\") & (dataframe_pollution.Qualite == \"Degradee\")).count()\n",
    "print(\"Degradee : \" , dataframe_pollution_fevrierD2021)\n",
    "max(dataframe_pollution_fevrierTM2021 , dataframe_pollution_fevrierEM2021 , dataframe_pollution_fevrierMA2021 , dataframe_pollution_fevrierMO2021 ,  dataframe_pollution_fevrierD2021)\n"
   ]
  },
  {
   "cell_type": "code",
   "execution_count": null,
   "id": "14476e54",
   "metadata": {},
   "outputs": [],
   "source": [
    "\n",
    "dataframe_pollution_marsTM2021 = dataframe_pollution.filter((dataframe_pollution.Annee ==\"2021\") & (dataframe_pollution.Mois ==\"mars\") & (dataframe_pollution.Qualite == \"Bonne\")).count()\n",
    "print(\"Bonne : \" , dataframe_pollution_marsTM2021)\n",
    "dataframe_pollution_marsEM2021 = dataframe_pollution.filter((dataframe_pollution.Annee ==\"2021\") & (dataframe_pollution.Mois ==\"mars\") & (dataframe_pollution.Qualite == \"Extremement mauvaise\")).count()\n",
    "print(\"Extremement mauvaise : \",dataframe_pollution_marsEM2021)\n",
    "dataframe_pollution_marsMA2021 = dataframe_pollution.filter((dataframe_pollution.Annee ==\"2021\") & (dataframe_pollution.Mois ==\"mars\") & (dataframe_pollution.Qualite == \"Mauvaise\")).count()\n",
    "print(\"Mauvaise : \" , dataframe_pollution_marsMA2021)\n",
    "dataframe_pollution_marsMO2021 = dataframe_pollution.filter((dataframe_pollution.Annee ==\"2021\") & (dataframe_pollution.Mois ==\"mars\") & (dataframe_pollution.Qualite == \"Moyenne\")).count()\n",
    "print(\"Moyenne: \" , dataframe_pollution_marsMO2021)\n",
    "dataframe_pollution_marsD2021 = dataframe_pollution.filter((dataframe_pollution.Annee ==\"2021\") & (dataframe_pollution.Mois ==\"mars\") & (dataframe_pollution.Qualite == \"Degradee\")).count()\n",
    "print(\"Degradee : \" , dataframe_pollution_marsD2021)\n",
    "max(dataframe_pollution_marsTM2021 , dataframe_pollution_marsEM2021 , dataframe_pollution_marsMA2021 , dataframe_pollution_marsMO2021 ,  dataframe_pollution_marsD2021)\n"
   ]
  },
  {
   "cell_type": "code",
   "execution_count": null,
   "id": "67109a4a",
   "metadata": {},
   "outputs": [],
   "source": [
    "\n",
    "dataframe_pollution_AvrilTM2021 = dataframe_pollution.filter((dataframe_pollution.Annee ==\"2021\") & (dataframe_pollution.Mois ==\"Avril\") & (dataframe_pollution.Qualite == \"Bonne\")).count()\n",
    "print(\"Bonne : \" , dataframe_pollution_AvrilTM2021)\n",
    "dataframe_pollution_AvrilEM2021 = dataframe_pollution.filter((dataframe_pollution.Annee ==\"2021\") & (dataframe_pollution.Mois ==\"Avril\") & (dataframe_pollution.Qualite == \"Extremement mauvaise\")).count()\n",
    "print(\"Extremement mauvaise : \",dataframe_pollution_AvrilEM2021)\n",
    "dataframe_pollution_AvrilMA2021 = dataframe_pollution.filter((dataframe_pollution.Annee ==\"2021\") & (dataframe_pollution.Mois ==\"Avril\") & (dataframe_pollution.Qualite == \"Mauvaise\")).count()\n",
    "print(\"Mauvaise : \" , dataframe_pollution_AvrilMA2021)\n",
    "dataframe_pollution_AvrilMO2021 = dataframe_pollution.filter((dataframe_pollution.Annee ==\"2021\") & (dataframe_pollution.Mois ==\"Avril\") & (dataframe_pollution.Qualite == \"Moyenne\")).count()\n",
    "print(\"Moyenne: \" , dataframe_pollution_AvrilMO2021)\n",
    "dataframe_pollution_AvrilD2021 = dataframe_pollution.filter((dataframe_pollution.Annee ==\"2021\") & (dataframe_pollution.Mois ==\"Avril\") & (dataframe_pollution.Qualite == \"Degradee\")).count()\n",
    "print(\"Degradee : \" , dataframe_pollution_AvrilD2021)\n",
    "max(dataframe_pollution_AvrilTM2021 , dataframe_pollution_AvrilEM2021 , dataframe_pollution_AvrilMA2021 , dataframe_pollution_AvrilMO2021 ,  dataframe_pollution_AvrilD2021)\n"
   ]
  },
  {
   "cell_type": "code",
   "execution_count": null,
   "id": "fec4e370",
   "metadata": {},
   "outputs": [],
   "source": [
    "\n",
    "dataframe_pollution_maiTM2021 = dataframe_pollution.filter((dataframe_pollution.Annee ==\"2021\") & (dataframe_pollution.Mois ==\"mai\") & (dataframe_pollution.Qualite == \"Bonne\")).count()\n",
    "print(\"Bonne : \" , dataframe_pollution_maiTM2021)\n",
    "dataframe_pollution_maiEM2021 = dataframe_pollution.filter((dataframe_pollution.Annee ==\"2021\") & (dataframe_pollution.Mois ==\"mai\") & (dataframe_pollution.Qualite == \"Extremement mauvaise\")).count()\n",
    "print(\"Extremement mauvaise : \",dataframe_pollution_maiEM2021)\n",
    "dataframe_pollution_maiMA2021 = dataframe_pollution.filter((dataframe_pollution.Annee ==\"2021\") & (dataframe_pollution.Mois ==\"mai\") & (dataframe_pollution.Qualite == \"Mauvaise\")).count()\n",
    "print(\"Mauvaise : \" , dataframe_pollution_maiMA2021)\n",
    "dataframe_pollution_maiMO2021 = dataframe_pollution.filter((dataframe_pollution.Annee ==\"2021\") & (dataframe_pollution.Mois ==\"mai\") & (dataframe_pollution.Qualite == \"Moyenne\")).count()\n",
    "print(\"Moyenne: \" , dataframe_pollution_maiMO2021)\n",
    "dataframe_pollution_maiD2021 = dataframe_pollution.filter((dataframe_pollution.Annee ==\"2021\") & (dataframe_pollution.Mois ==\"mai\") & (dataframe_pollution.Qualite == \"Degradee\")).count()\n",
    "print(\"Degradee : \" , dataframe_pollution_maiD2021)\n",
    "max(dataframe_pollution_maiTM2021 , dataframe_pollution_maiEM2021 , dataframe_pollution_maiMA2021 , dataframe_pollution_maiMO2021 ,  dataframe_pollution_maiD2021)\n"
   ]
  },
  {
   "cell_type": "code",
   "execution_count": null,
   "id": "f361229e",
   "metadata": {},
   "outputs": [],
   "source": [
    "\n",
    "dataframe_pollution_juinTM2021 = dataframe_pollution.filter((dataframe_pollution.Annee ==\"2021\") & (dataframe_pollution.Mois ==\"juin\") & (dataframe_pollution.Qualite == \"Bonne\")).count()\n",
    "print(\"Bonne : \" , dataframe_pollution_juinTM2021)\n",
    "dataframe_pollution_juinEM2021 = dataframe_pollution.filter((dataframe_pollution.Annee ==\"2021\") & (dataframe_pollution.Mois ==\"juin\") & (dataframe_pollution.Qualite == \"Extremement mauvaise\")).count()\n",
    "print(\"Extremement mauvaise : \",dataframe_pollution_juinEM2021)\n",
    "dataframe_pollution_juinMA2021 = dataframe_pollution.filter((dataframe_pollution.Annee ==\"2021\") & (dataframe_pollution.Mois ==\"juin\") & (dataframe_pollution.Qualite == \"Mauvaise\")).count()\n",
    "print(\"Mauvaise : \" , dataframe_pollution_juinMA2021)\n",
    "dataframe_pollution_juinMO2021 = dataframe_pollution.filter((dataframe_pollution.Annee ==\"2021\") & (dataframe_pollution.Mois ==\"juin\") & (dataframe_pollution.Qualite == \"Moyenne\")).count()\n",
    "print(\"Moyenne: \" , dataframe_pollution_juinMO2021)\n",
    "dataframe_pollution_juinD2021 = dataframe_pollution.filter((dataframe_pollution.Annee ==\"2021\") & (dataframe_pollution.Mois ==\"juin\") & (dataframe_pollution.Qualite == \"Degradee\")).count()\n",
    "print(\"Degradee : \" , dataframe_pollution_juinD2021)\n",
    "max(dataframe_pollution_juinTM2021 , dataframe_pollution_juinEM2021 , dataframe_pollution_juinMA2021 , dataframe_pollution_juinMO2021 ,  dataframe_pollution_juinD2021)\n"
   ]
  },
  {
   "cell_type": "code",
   "execution_count": null,
   "id": "da113f21",
   "metadata": {},
   "outputs": [],
   "source": [
    "\n",
    "dataframe_pollution_juilletTM2021 = dataframe_pollution.filter((dataframe_pollution.Annee ==\"2021\") & (dataframe_pollution.Mois ==\"juillet\") & (dataframe_pollution.Qualite == \"Bonne\")).count()\n",
    "print(\"Bonne : \" , dataframe_pollution_juilletTM2021)\n",
    "dataframe_pollution_juilletEM2021 = dataframe_pollution.filter((dataframe_pollution.Annee ==\"2021\") & (dataframe_pollution.Mois ==\"juillet\") & (dataframe_pollution.Qualite == \"Extremement mauvaise\")).count()\n",
    "print(\"Extremement mauvaise : \",dataframe_pollution_juilletEM2021)\n",
    "dataframe_pollution_juilletMA2021 = dataframe_pollution.filter((dataframe_pollution.Annee ==\"2021\") & (dataframe_pollution.Mois ==\"juillet\") & (dataframe_pollution.Qualite == \"Mauvaise\")).count()\n",
    "print(\"Mauvaise : \" , dataframe_pollution_juilletMA2021)\n",
    "dataframe_pollution_juilletMO2021 = dataframe_pollution.filter((dataframe_pollution.Annee ==\"2021\") & (dataframe_pollution.Mois ==\"juillet\") & (dataframe_pollution.Qualite == \"Moyenne\")).count()\n",
    "print(\"Moyenne: \" , dataframe_pollution_juilletMO2021)\n",
    "dataframe_pollution_juilletD2021 = dataframe_pollution.filter((dataframe_pollution.Annee ==\"2021\") & (dataframe_pollution.Mois ==\"juillet\") & (dataframe_pollution.Qualite == \"Degradee\")).count()\n",
    "print(\"Degradee : \" , dataframe_pollution_juilletD2021)\n",
    "max(dataframe_pollution_juilletTM2021 , dataframe_pollution_juilletEM2021 , dataframe_pollution_juilletMA2021 , dataframe_pollution_juilletMO2021 ,  dataframe_pollution_juilletD2021)\n"
   ]
  },
  {
   "cell_type": "code",
   "execution_count": null,
   "id": "941c36a7",
   "metadata": {},
   "outputs": [],
   "source": [
    "\n",
    "dataframe_pollution_aoutTM2021 = dataframe_pollution.filter((dataframe_pollution.Annee ==\"2021\") & (dataframe_pollution.Mois ==\"aout\") & (dataframe_pollution.Qualite == \"Bonne\")).count()\n",
    "print(\"Bonne : \" , dataframe_pollution_aoutTM2021)\n",
    "dataframe_pollution_aoutEM2021 = dataframe_pollution.filter((dataframe_pollution.Annee ==\"2021\") & (dataframe_pollution.Mois ==\"aout\") & (dataframe_pollution.Qualite == \"Extremement mauvaise\")).count()\n",
    "print(\"Extremement mauvaise : \",dataframe_pollution_aoutEM2021)\n",
    "dataframe_pollution_aoutMA2021 = dataframe_pollution.filter((dataframe_pollution.Annee ==\"2021\") & (dataframe_pollution.Mois ==\"aout\") & (dataframe_pollution.Qualite == \"Mauvaise\")).count()\n",
    "print(\"Mauvaise : \" , dataframe_pollution_aoutMA2021)\n",
    "dataframe_pollution_aoutMO2021 = dataframe_pollution.filter((dataframe_pollution.Annee ==\"2021\") & (dataframe_pollution.Mois ==\"aout\") & (dataframe_pollution.Qualite == \"Moyenne\")).count()\n",
    "print(\"Moyenne: \" , dataframe_pollution_aoutMO2021)\n",
    "dataframe_pollution_aoutD2021 = dataframe_pollution.filter((dataframe_pollution.Annee ==\"2021\") & (dataframe_pollution.Mois ==\"aout\") & (dataframe_pollution.Qualite == \"Degradee\")).count()\n",
    "print(\"Degradee : \" , dataframe_pollution_aoutD2021)\n",
    "max(dataframe_pollution_aoutTM2021 , dataframe_pollution_aoutEM2021 , dataframe_pollution_aoutMA2021 , dataframe_pollution_aoutMO2021 ,  dataframe_pollution_aoutD2021)\n"
   ]
  },
  {
   "cell_type": "code",
   "execution_count": null,
   "id": "5164692e",
   "metadata": {},
   "outputs": [],
   "source": [
    "\n",
    "dataframe_pollution_septembreTM2021 = dataframe_pollution.filter((dataframe_pollution.Annee ==\"2021\") & (dataframe_pollution.Mois ==\"septembre\") & (dataframe_pollution.Qualite == \"Bonne\")).count()\n",
    "print(\"Bonne : \" , dataframe_pollution_septembreTM2021)\n",
    "dataframe_pollution_septembreEM2021 = dataframe_pollution.filter((dataframe_pollution.Annee ==\"2021\") & (dataframe_pollution.Mois ==\"septembre\") & (dataframe_pollution.Qualite == \"Extremement mauvaise\")).count()\n",
    "print(\"Extremement mauvaise : \",dataframe_pollution_septembreEM2021)\n",
    "dataframe_pollution_septembreMA2021 = dataframe_pollution.filter((dataframe_pollution.Annee ==\"2021\") & (dataframe_pollution.Mois ==\"septembre\") & (dataframe_pollution.Qualite == \"Mauvaise\")).count()\n",
    "print(\"Mauvaise : \" , dataframe_pollution_septembreMA2021)\n",
    "dataframe_pollution_septembreMO2021 = dataframe_pollution.filter((dataframe_pollution.Annee ==\"2021\") & (dataframe_pollution.Mois ==\"septembre\") & (dataframe_pollution.Qualite == \"Moyenne\")).count()\n",
    "print(\"Moyenne: \" , dataframe_pollution_septembreMO2021)\n",
    "dataframe_pollution_septembreD2021 = dataframe_pollution.filter((dataframe_pollution.Annee ==\"2021\") & (dataframe_pollution.Mois ==\"septembre\") & (dataframe_pollution.Qualite == \"Degradee\")).count()\n",
    "print(\"Degradee : \" , dataframe_pollution_septembreD2021)\n",
    "max(dataframe_pollution_septembreTM2021 , dataframe_pollution_septembreEM2021 , dataframe_pollution_septembreMA2021 , dataframe_pollution_septembreMO2021 ,  dataframe_pollution_septembreD2021)\n"
   ]
  },
  {
   "cell_type": "code",
   "execution_count": null,
   "id": "728358be",
   "metadata": {},
   "outputs": [],
   "source": [
    "\n",
    "dataframe_pollution_octobreTM2021 = dataframe_pollution.filter((dataframe_pollution.Annee ==\"2021\") & (dataframe_pollution.Mois ==\"octobre\") & (dataframe_pollution.Qualite == \"Bonne\")).count()\n",
    "print(\"Bonne : \" , dataframe_pollution_octobreTM2021)\n",
    "dataframe_pollution_octobreEM2021 = dataframe_pollution.filter((dataframe_pollution.Annee ==\"2021\") & (dataframe_pollution.Mois ==\"octobre\") & (dataframe_pollution.Qualite == \"Extremement mauvaise\")).count()\n",
    "print(\"Extremement mauvaise : \",dataframe_pollution_octobreEM2021)\n",
    "dataframe_pollution_octobreMA2021 = dataframe_pollution.filter((dataframe_pollution.Annee ==\"2021\") & (dataframe_pollution.Mois ==\"octobre\") & (dataframe_pollution.Qualite == \"Mauvaise\")).count()\n",
    "print(\"Mauvaise : \" , dataframe_pollution_octobreMA2021)\n",
    "dataframe_pollution_octobreMO2021 = dataframe_pollution.filter((dataframe_pollution.Annee ==\"2021\") & (dataframe_pollution.Mois ==\"octobre\") & (dataframe_pollution.Qualite == \"Moyenne\")).count()\n",
    "print(\"Moyenne: \" , dataframe_pollution_octobreMO2021)\n",
    "dataframe_pollution_octobreD2021 = dataframe_pollution.filter((dataframe_pollution.Annee ==\"2021\") & (dataframe_pollution.Mois ==\"octobre\") & (dataframe_pollution.Qualite == \"Degradee\")).count()\n",
    "print(\"Degradee : \" , dataframe_pollution_octobreD2021)\n",
    "max(dataframe_pollution_octobreTM2021 , dataframe_pollution_octobreEM2021 , dataframe_pollution_octobreMA2021 , dataframe_pollution_octobreMO2021 ,  dataframe_pollution_octobreD2021)\n"
   ]
  },
  {
   "cell_type": "code",
   "execution_count": null,
   "id": "c2d0226a",
   "metadata": {},
   "outputs": [],
   "source": [
    "\n",
    "dataframe_pollution_novembreTM2021 = dataframe_pollution.filter((dataframe_pollution.Annee ==\"2021\") & (dataframe_pollution.Mois ==\"novembre\") & (dataframe_pollution.Qualite == \"Bonne\")).count()\n",
    "print(\"Bonne : \" , dataframe_pollution_novembreTM2021)\n",
    "dataframe_pollution_novembreEM2021 = dataframe_pollution.filter((dataframe_pollution.Annee ==\"2021\") & (dataframe_pollution.Mois ==\"novembre\") & (dataframe_pollution.Qualite == \"Extremement mauvaise\")).count()\n",
    "print(\"Extremement mauvaise : \",dataframe_pollution_novembreEM2021)\n",
    "dataframe_pollution_novembreMA2021 = dataframe_pollution.filter((dataframe_pollution.Annee ==\"2021\") & (dataframe_pollution.Mois ==\"novembre\") & (dataframe_pollution.Qualite == \"Mauvaise\")).count()\n",
    "print(\"Mauvaise : \" , dataframe_pollution_novembreMA2021)\n",
    "dataframe_pollution_novembreMO2021 = dataframe_pollution.filter((dataframe_pollution.Annee ==\"2021\") & (dataframe_pollution.Mois ==\"novembre\") & (dataframe_pollution.Qualite == \"Moyenne\")).count()\n",
    "print(\"Moyenne: \" , dataframe_pollution_novembreMO2021)\n",
    "dataframe_pollution_novembreD2021 = dataframe_pollution.filter((dataframe_pollution.Annee ==\"2021\") & (dataframe_pollution.Mois ==\"novembre\") & (dataframe_pollution.Qualite == \"Degradee\")).count()\n",
    "print(\"Degradee : \" , dataframe_pollution_novembreD2021)\n",
    "max(dataframe_pollution_novembreTM2021 , dataframe_pollution_novembreEM2021 , dataframe_pollution_novembreMA2021 , dataframe_pollution_novembreMO2021 ,  dataframe_pollution_novembreD2021)\n"
   ]
  },
  {
   "cell_type": "code",
   "execution_count": null,
   "id": "9da5b523",
   "metadata": {},
   "outputs": [],
   "source": [
    "\n",
    "dataframe_pollution_decembreTM2021 = dataframe_pollution.filter((dataframe_pollution.Annee ==\"2021\") & (dataframe_pollution.Mois ==\"decembre\") & (dataframe_pollution.Qualite == \"Bonne\")).count()\n",
    "print(\"Bonne : \" , dataframe_pollution_decembreTM2021)\n",
    "dataframe_pollution_decembreEM2021 = dataframe_pollution.filter((dataframe_pollution.Annee ==\"2021\") & (dataframe_pollution.Mois ==\"decembre\") & (dataframe_pollution.Qualite == \"Extremement mauvaise\")).count()\n",
    "print(\"Extremement mauvaise : \",dataframe_pollution_decembreEM2021)\n",
    "dataframe_pollution_decembreMA2021 = dataframe_pollution.filter((dataframe_pollution.Annee ==\"2021\") & (dataframe_pollution.Mois ==\"decembre\") & (dataframe_pollution.Qualite == \"Mauvaise\")).count()\n",
    "print(\"Mauvaise : \" , dataframe_pollution_decembreMA2021)\n",
    "dataframe_pollution_decembreMO2021 = dataframe_pollution.filter((dataframe_pollution.Annee ==\"2021\") & (dataframe_pollution.Mois ==\"decembre\") & (dataframe_pollution.Qualite == \"Moyenne\")).count()\n",
    "print(\"Moyenne: \" , dataframe_pollution_decembreMO2021)\n",
    "dataframe_pollution_decembreD2021 = dataframe_pollution.filter((dataframe_pollution.Annee ==\"2021\") & (dataframe_pollution.Mois ==\"decembre\") & (dataframe_pollution.Qualite == \"Degradee\")).count()\n",
    "print(\"Degradee : \" , dataframe_pollution_decembreD2021)\n",
    "max(dataframe_pollution_decembreTM2021 , dataframe_pollution_decembreEM2021 , dataframe_pollution_decembreMA2021 , dataframe_pollution_decembreMO2021 ,  dataframe_pollution_decembreD2021)\n"
   ]
  },
  {
   "cell_type": "code",
   "execution_count": null,
   "id": "a8051c41",
   "metadata": {},
   "outputs": [],
   "source": []
  },
  {
   "cell_type": "code",
   "execution_count": null,
   "id": "071682ed",
   "metadata": {},
   "outputs": [],
   "source": []
  },
  {
   "cell_type": "code",
   "execution_count": null,
   "id": "34771f45",
   "metadata": {},
   "outputs": [],
   "source": [
    "path  = 'hdfs://namenode:9000/ma_base/circulation/'\n",
    "dataframe_circulation = spark.read.format('csv').options(header=True, sep=\";\").load(path)\n",
    "dataframe_circulation.show(5)"
   ]
  },
  {
   "cell_type": "code",
   "execution_count": null,
   "id": "24cc8c34",
   "metadata": {},
   "outputs": [],
   "source": []
  },
  {
   "cell_type": "code",
   "execution_count": null,
   "id": "36a9d835",
   "metadata": {},
   "outputs": [],
   "source": [
    "dataframe_circulation.count()"
   ]
  },
  {
   "cell_type": "code",
   "execution_count": null,
   "id": "f902bb50",
   "metadata": {},
   "outputs": [],
   "source": [
    "dataframe_circulation = dataframe_circulation.withColumnRenamed(\"Id_cerculation\",\"Id_circulation\")\n",
    "dataframe_circulation.show()"
   ]
  },
  {
   "cell_type": "code",
   "execution_count": null,
   "id": "7956659e",
   "metadata": {},
   "outputs": [],
   "source": [
    "dataframe_circulation.describe([\"Indice frequentation tout types de transports\" , \"Volume trafic BP\" , \"FREQ_VELIB\"]).show()"
   ]
  },
  {
   "cell_type": "code",
   "execution_count": null,
   "id": "be198506",
   "metadata": {},
   "outputs": [],
   "source": []
  },
  {
   "cell_type": "code",
   "execution_count": null,
   "id": "31fdc41a",
   "metadata": {},
   "outputs": [],
   "source": [
    "df_circulation_selectionne = dataframe_circulation.select(\"Id_circulation\" , \"Annee\" , \"Mois\" ,\"Indice frequentation tout types de transports\" )\n",
    "df_circulation_selectionne.show()"
   ]
  },
  {
   "cell_type": "code",
   "execution_count": null,
   "id": "e9b5ad3a",
   "metadata": {},
   "outputs": [],
   "source": [
    "df_circulation_selectionne.filter(( df_circulation_selectionne.Annee == \"2018\") & (df_circulation_selectionne.Mois == \"Janvier\")).agg({'Indice frequentation tout types de transports': 'mean'}).collect()"
   ]
  },
  {
   "cell_type": "code",
   "execution_count": null,
   "id": "9f344d67",
   "metadata": {},
   "outputs": [],
   "source": [
    "df_circulation_selectionne.filter(( df_circulation_selectionne.Annee == \"2018\") & (df_circulation_selectionne.Mois == \"Fevrier\")).agg({'Indice frequentation tout types de transports': 'mean'}).collect()"
   ]
  },
  {
   "cell_type": "code",
   "execution_count": null,
   "id": "9ff054a1",
   "metadata": {},
   "outputs": [],
   "source": [
    "df_circulation_selectionne.filter(( df_circulation_selectionne.Annee == \"2018\") & (df_circulation_selectionne.Mois == \"Mars\")).agg({'Indice frequentation tout types de transports': 'mean'}).collect()"
   ]
  },
  {
   "cell_type": "code",
   "execution_count": null,
   "id": "715dd73b",
   "metadata": {},
   "outputs": [],
   "source": [
    "df_circulation_selectionne.filter(( df_circulation_selectionne.Annee == \"2018\") & (df_circulation_selectionne.Mois == \"Avril\")).agg({'Indice frequentation tout types de transports': 'mean'}).collect()"
   ]
  },
  {
   "cell_type": "code",
   "execution_count": null,
   "id": "101f7357",
   "metadata": {},
   "outputs": [],
   "source": [
    "df_circulation_selectionne.filter(( df_circulation_selectionne.Annee == \"2018\") & (df_circulation_selectionne.Mois == \"Mai\")).agg({'Indice frequentation tout types de transports': 'mean'}).collect()"
   ]
  },
  {
   "cell_type": "code",
   "execution_count": null,
   "id": "1798911c",
   "metadata": {},
   "outputs": [],
   "source": [
    "df_circulation_selectionne.filter(( df_circulation_selectionne.Annee == \"2018\") & (df_circulation_selectionne.Mois == \"Juin\")).agg({'Indice frequentation tout types de transports': 'mean'}).collect()"
   ]
  },
  {
   "cell_type": "code",
   "execution_count": null,
   "id": "7480031a",
   "metadata": {},
   "outputs": [],
   "source": [
    "df_circulation_selectionne.filter(( df_circulation_selectionne.Annee == \"2018\") & (df_circulation_selectionne.Mois == \"Juillet\")).agg({'Indice frequentation tout types de transports': 'mean'}).collect()"
   ]
  },
  {
   "cell_type": "code",
   "execution_count": null,
   "id": "f9805638",
   "metadata": {},
   "outputs": [],
   "source": [
    "df_circulation_selectionne.filter(( df_circulation_selectionne.Annee == \"2018\") & (df_circulation_selectionne.Mois == \"Aout\")).agg({'Indice frequentation tout types de transports': 'mean'}).collect()"
   ]
  },
  {
   "cell_type": "code",
   "execution_count": null,
   "id": "061ec954",
   "metadata": {},
   "outputs": [],
   "source": [
    "df_circulation_selectionne.filter(( df_circulation_selectionne.Annee == \"2018\") & (df_circulation_selectionne.Mois == \"Septembre\")).agg({'Indice frequentation tout types de transports': 'mean'}).collect()"
   ]
  },
  {
   "cell_type": "code",
   "execution_count": null,
   "id": "d8c45eac",
   "metadata": {},
   "outputs": [],
   "source": [
    "df_circulation_selectionne.filter(( df_circulation_selectionne.Annee == \"2018\") & (df_circulation_selectionne.Mois == \"Octobre\")).agg({'Indice frequentation tout types de transports': 'mean'}).collect()"
   ]
  },
  {
   "cell_type": "code",
   "execution_count": null,
   "id": "5f54baa8",
   "metadata": {},
   "outputs": [],
   "source": [
    "df_circulation_selectionne.filter(( df_circulation_selectionne.Annee == \"2018\") & (df_circulation_selectionne.Mois == \"Novembre\")).agg({'Indice frequentation tout types de transports': 'mean'}).collect()"
   ]
  },
  {
   "cell_type": "code",
   "execution_count": null,
   "id": "3c31f27d",
   "metadata": {},
   "outputs": [],
   "source": [
    "df_circulation_selectionne.filter(( df_circulation_selectionne.Annee == \"2018\") & (df_circulation_selectionne.Mois == \"Decembre\")).agg({'Indice frequentation tout types de transports': 'mean'}).collect()"
   ]
  },
  {
   "cell_type": "code",
   "execution_count": null,
   "id": "2847444a",
   "metadata": {},
   "outputs": [],
   "source": [
    "df_circulation_selectionne.filter(( df_circulation_selectionne.Annee == \"2019\") & (df_circulation_selectionne.Mois == \"Janvier\")).agg({'Indice frequentation tout types de transports': 'mean'}).collect()"
   ]
  },
  {
   "cell_type": "code",
   "execution_count": null,
   "id": "03556b6d",
   "metadata": {},
   "outputs": [],
   "source": [
    "df_circulation_selectionne.filter(( df_circulation_selectionne.Annee == \"2019\") & (df_circulation_selectionne.Mois == \"Fevrier\")).agg({'Indice frequentation tout types de transports': 'mean'}).collect()"
   ]
  },
  {
   "cell_type": "code",
   "execution_count": null,
   "id": "a700ea42",
   "metadata": {},
   "outputs": [],
   "source": [
    "df_circulation_selectionne.filter(( df_circulation_selectionne.Annee == \"2019\") & (df_circulation_selectionne.Mois == \"Mars\")).agg({'Indice frequentation tout types de transports': 'mean'}).collect()"
   ]
  },
  {
   "cell_type": "code",
   "execution_count": null,
   "id": "ba10ea0f",
   "metadata": {},
   "outputs": [],
   "source": [
    "df_circulation_selectionne.filter(( df_circulation_selectionne.Annee == \"2019\") & (df_circulation_selectionne.Mois == \"Avril\")).agg({'Indice frequentation tout types de transports': 'mean'}).collect()"
   ]
  },
  {
   "cell_type": "code",
   "execution_count": null,
   "id": "1ba5270b",
   "metadata": {},
   "outputs": [],
   "source": [
    "df_circulation_selectionne.filter(( df_circulation_selectionne.Annee == \"2019\") & (df_circulation_selectionne.Mois == \"Mai\")).agg({'Indice frequentation tout types de transports': 'mean'}).collect()"
   ]
  },
  {
   "cell_type": "code",
   "execution_count": null,
   "id": "6b187398",
   "metadata": {},
   "outputs": [],
   "source": [
    "df_circulation_selectionne.filter(( df_circulation_selectionne.Annee == \"2019\") & (df_circulation_selectionne.Mois == \"Juin\")).agg({'Indice frequentation tout types de transports': 'mean'}).collect()"
   ]
  },
  {
   "cell_type": "code",
   "execution_count": null,
   "id": "1f6f24ac",
   "metadata": {},
   "outputs": [],
   "source": [
    "df_circulation_selectionne.filter(( df_circulation_selectionne.Annee == \"2019\") & (df_circulation_selectionne.Mois == \"Juillet\")).agg({'Indice frequentation tout types de transports': 'mean'}).collect()"
   ]
  },
  {
   "cell_type": "code",
   "execution_count": null,
   "id": "638d3fa1",
   "metadata": {},
   "outputs": [],
   "source": [
    "df_circulation_selectionne.filter(( df_circulation_selectionne.Annee == \"2019\") & (df_circulation_selectionne.Mois == \"Aout\")).agg({'Indice frequentation tout types de transports': 'mean'}).collect()"
   ]
  },
  {
   "cell_type": "code",
   "execution_count": null,
   "id": "682e37fc",
   "metadata": {},
   "outputs": [],
   "source": [
    "df_circulation_selectionne.filter(( df_circulation_selectionne.Annee == \"2019\") & (df_circulation_selectionne.Mois == \"Septembre\")).agg({'Indice frequentation tout types de transports': 'mean'}).collect()"
   ]
  },
  {
   "cell_type": "code",
   "execution_count": null,
   "id": "14fd72aa",
   "metadata": {},
   "outputs": [],
   "source": [
    "df_circulation_selectionne.filter(( df_circulation_selectionne.Annee == \"2019\") & (df_circulation_selectionne.Mois == \"Octobre\")).agg({'Indice frequentation tout types de transports': 'mean'}).collect()"
   ]
  },
  {
   "cell_type": "code",
   "execution_count": null,
   "id": "40143aa2",
   "metadata": {},
   "outputs": [],
   "source": [
    "df_circulation_selectionne.filter(( df_circulation_selectionne.Annee == \"2019\") & (df_circulation_selectionne.Mois == \"Novembre\")).agg({'Indice frequentation tout types de transports': 'mean'}).collect()"
   ]
  },
  {
   "cell_type": "code",
   "execution_count": null,
   "id": "917ae1e6",
   "metadata": {},
   "outputs": [],
   "source": [
    "df_circulation_selectionne.filter(( df_circulation_selectionne.Annee == \"2019\") & (df_circulation_selectionne.Mois == \"Decembre\")).agg({'Indice frequentation tout types de transports': 'mean'}).collect()"
   ]
  },
  {
   "cell_type": "code",
   "execution_count": null,
   "id": "297a5118",
   "metadata": {},
   "outputs": [],
   "source": [
    "df_circulation_selectionne.filter(( df_circulation_selectionne.Annee == \"2020\") & (df_circulation_selectionne.Mois == \"Janvier\")).agg({'Indice frequentation tout types de transports': 'mean'}).collect()"
   ]
  },
  {
   "cell_type": "code",
   "execution_count": null,
   "id": "17e9c10a",
   "metadata": {},
   "outputs": [],
   "source": [
    "df_circulation_selectionne.filter(( df_circulation_selectionne.Annee == \"2020\") & (df_circulation_selectionne.Mois == \"Fevrier\")).agg({'Indice frequentation tout types de transports': 'mean'}).collect()"
   ]
  },
  {
   "cell_type": "code",
   "execution_count": null,
   "id": "6fd86152",
   "metadata": {},
   "outputs": [],
   "source": [
    "df_circulation_selectionne.filter(( df_circulation_selectionne.Annee == \"2020\") & (df_circulation_selectionne.Mois == \"Mars\")).agg({'Indice frequentation tout types de transports': 'mean'}).collect()"
   ]
  },
  {
   "cell_type": "code",
   "execution_count": null,
   "id": "5f924530",
   "metadata": {},
   "outputs": [],
   "source": [
    "df_circulation_selectionne.filter(( df_circulation_selectionne.Annee == \"2020\") & (df_circulation_selectionne.Mois == \"Avril\")).agg({'Indice frequentation tout types de transports': 'mean'}).collect()"
   ]
  },
  {
   "cell_type": "code",
   "execution_count": null,
   "id": "1ed88c11",
   "metadata": {},
   "outputs": [],
   "source": [
    "df_circulation_selectionne.filter(( df_circulation_selectionne.Annee == \"2020\") & (df_circulation_selectionne.Mois == \"Mai\")).agg({'Indice frequentation tout types de transports': 'mean'}).collect()"
   ]
  },
  {
   "cell_type": "code",
   "execution_count": null,
   "id": "7d1dd5a7",
   "metadata": {},
   "outputs": [],
   "source": [
    "df_circulation_selectionne.filter(( df_circulation_selectionne.Annee == \"2020\") & (df_circulation_selectionne.Mois == \"Juin\")).agg({'Indice frequentation tout types de transports': 'mean'}).collect()"
   ]
  },
  {
   "cell_type": "code",
   "execution_count": null,
   "id": "470a8186",
   "metadata": {},
   "outputs": [],
   "source": [
    "df_circulation_selectionne.filter(( df_circulation_selectionne.Annee == \"2020\") & (df_circulation_selectionne.Mois == \"Juillet\")).agg({'Indice frequentation tout types de transports': 'mean'}).collect()"
   ]
  },
  {
   "cell_type": "code",
   "execution_count": null,
   "id": "3d76aa0c",
   "metadata": {},
   "outputs": [],
   "source": [
    "df_circulation_selectionne.filter(( df_circulation_selectionne.Annee == \"2020\") & (df_circulation_selectionne.Mois == \"Aout\")).agg({'Indice frequentation tout types de transports': 'mean'}).collect()"
   ]
  },
  {
   "cell_type": "code",
   "execution_count": null,
   "id": "45eec794",
   "metadata": {},
   "outputs": [],
   "source": [
    "df_circulation_selectionne.filter(( df_circulation_selectionne.Annee == \"2020\") & (df_circulation_selectionne.Mois == \"Septembre\")).agg({'Indice frequentation tout types de transports': 'mean'}).collect()"
   ]
  },
  {
   "cell_type": "code",
   "execution_count": null,
   "id": "352992b7",
   "metadata": {},
   "outputs": [],
   "source": [
    "df_circulation_selectionne.filter(( df_circulation_selectionne.Annee == \"2020\") & (df_circulation_selectionne.Mois == \"Octobre\")).agg({'Indice frequentation tout types de transports': 'mean'}).collect()"
   ]
  },
  {
   "cell_type": "code",
   "execution_count": null,
   "id": "b93575e6",
   "metadata": {},
   "outputs": [],
   "source": [
    "df_circulation_selectionne.filter(( df_circulation_selectionne.Annee == \"2020\") & (df_circulation_selectionne.Mois == \"Novembre\")).agg({'Indice frequentation tout types de transports': 'mean'}).collect()"
   ]
  },
  {
   "cell_type": "code",
   "execution_count": null,
   "id": "23a57f48",
   "metadata": {},
   "outputs": [],
   "source": [
    "df_circulation_selectionne.filter(( df_circulation_selectionne.Annee == \"2020\") & (df_circulation_selectionne.Mois == \"Decembre\")).agg({'Indice frequentation tout types de transports': 'mean'}).collect()"
   ]
  },
  {
   "cell_type": "code",
   "execution_count": null,
   "id": "43f7df05",
   "metadata": {},
   "outputs": [],
   "source": [
    "df_circulation_selectionne.filter(( df_circulation_selectionne.Annee == \"2021\") & (df_circulation_selectionne.Mois == \"Janvier\")).agg({'Indice frequentation tout types de transports': 'mean'}).collect()"
   ]
  },
  {
   "cell_type": "code",
   "execution_count": null,
   "id": "d1ede690",
   "metadata": {},
   "outputs": [],
   "source": [
    "df_circulation_selectionne.filter(( df_circulation_selectionne.Annee == \"2021\") & (df_circulation_selectionne.Mois == \"Fevrier\")).agg({'Indice frequentation tout types de transports': 'mean'}).collect()"
   ]
  },
  {
   "cell_type": "code",
   "execution_count": null,
   "id": "336a8105",
   "metadata": {},
   "outputs": [],
   "source": [
    "df_circulation_selectionne.filter(( df_circulation_selectionne.Annee == \"2021\") & (df_circulation_selectionne.Mois == \"Mars\")).agg({'Indice frequentation tout types de transports': 'mean'}).collect()"
   ]
  },
  {
   "cell_type": "code",
   "execution_count": null,
   "id": "ae8b5710",
   "metadata": {},
   "outputs": [],
   "source": [
    "df_circulation_selectionne.filter(( df_circulation_selectionne.Annee == \"2021\") & (df_circulation_selectionne.Mois == \"Avril\")).agg({'Indice frequentation tout types de transports': 'mean'}).collect()"
   ]
  },
  {
   "cell_type": "code",
   "execution_count": null,
   "id": "7b799b1a",
   "metadata": {},
   "outputs": [],
   "source": [
    "df_circulation_selectionne.filter(( df_circulation_selectionne.Annee == \"2021\") & (df_circulation_selectionne.Mois == \"Mai\")).agg({'Indice frequentation tout types de transports': 'mean'}).collect()"
   ]
  },
  {
   "cell_type": "code",
   "execution_count": null,
   "id": "8569a2d6",
   "metadata": {},
   "outputs": [],
   "source": [
    "df_circulation_selectionne.filter(( df_circulation_selectionne.Annee == \"2021\") & (df_circulation_selectionne.Mois == \"Juin\")).agg({'Indice frequentation tout types de transports': 'mean'}).collect()"
   ]
  },
  {
   "cell_type": "code",
   "execution_count": null,
   "id": "ffd37d7d",
   "metadata": {},
   "outputs": [],
   "source": [
    "df_circulation_selectionne.filter(( df_circulation_selectionne.Annee == \"2021\") & (df_circulation_selectionne.Mois == \"Juillet\")).agg({'Indice frequentation tout types de transports': 'mean'}).collect()"
   ]
  },
  {
   "cell_type": "code",
   "execution_count": null,
   "id": "a5464c91",
   "metadata": {},
   "outputs": [],
   "source": [
    "df_circulation_selectionne.filter(( df_circulation_selectionne.Annee == \"2021\") & (df_circulation_selectionne.Mois == \"Aout\")).agg({'Indice frequentation tout types de transports': 'mean'}).collect()"
   ]
  },
  {
   "cell_type": "code",
   "execution_count": null,
   "id": "7f7d31d7",
   "metadata": {},
   "outputs": [],
   "source": [
    "df_circulation_selectionne.filter(( df_circulation_selectionne.Annee == \"2021\") & (df_circulation_selectionne.Mois == \"Septembre\")).agg({'Indice frequentation tout types de transports': 'mean'}).collect()"
   ]
  },
  {
   "cell_type": "code",
   "execution_count": null,
   "id": "a6057870",
   "metadata": {},
   "outputs": [],
   "source": [
    "df_circulation_selectionne.filter(( df_circulation_selectionne.Annee == \"2021\") & (df_circulation_selectionne.Mois == \"Octobre\")).agg({'Indice frequentation tout types de transports': 'mean'}).collect()"
   ]
  },
  {
   "cell_type": "code",
   "execution_count": null,
   "id": "0d54c55b",
   "metadata": {},
   "outputs": [],
   "source": [
    "df_circulation_selectionne.filter(( df_circulation_selectionne.Annee == \"2021\") & (df_circulation_selectionne.Mois == \"Novembre\")).agg({'Indice frequentation tout types de transports': 'mean'}).collect()"
   ]
  },
  {
   "cell_type": "code",
   "execution_count": null,
   "id": "557f1ad8",
   "metadata": {},
   "outputs": [],
   "source": [
    "df_circulation_selectionne.filter(( df_circulation_selectionne.Annee == \"2021\") & (df_circulation_selectionne.Mois == \"Decembre\")).agg({'Indice frequentation tout types de transports': 'mean'}).collect()"
   ]
  },
  {
   "cell_type": "code",
   "execution_count": null,
   "id": "2b7a3f1d",
   "metadata": {},
   "outputs": [],
   "source": []
  },
  {
   "cell_type": "code",
   "execution_count": null,
   "id": "1ab6414e",
   "metadata": {},
   "outputs": [],
   "source": [
    "\n",
    "#path  = 'hdfs://namenode:9000/mes_fichiers/accident/'\n",
    "#dataframe_accident = spark.read.format('csv').options(header=True, sep=\";\").load(path)\n",
    "#dataframe_accident.show()"
   ]
  },
  {
   "cell_type": "code",
   "execution_count": null,
   "id": "c62207b6",
   "metadata": {},
   "outputs": [],
   "source": [
    "#df_accident_selectionne = dataframe_accident.select(\"Annee\" , \"Mois\" ,\"Lieu\" )\n",
    "#df_accident_selectionne.show()"
   ]
  },
  {
   "cell_type": "code",
   "execution_count": null,
   "id": "805db5d5",
   "metadata": {},
   "outputs": [],
   "source": [
    "#df_txt=df_accident_selectionne.filter(df_accident_selectionne.Mois == \"Janvier\")#.filter(df_accident_selectionne.Mois == \"Janvier\").show()\n",
    "#df_txt.show()"
   ]
  },
  {
   "cell_type": "code",
   "execution_count": null,
   "id": "2cf7d259",
   "metadata": {},
   "outputs": [],
   "source": [
    "from pyspark.sql.functions import col"
   ]
  },
  {
   "cell_type": "code",
   "execution_count": null,
   "id": "deee6f33",
   "metadata": {},
   "outputs": [],
   "source": [
    "#df_txt.filter((col(\"Mois\")==\"Janvier\") & (col(\"Annee\")==\"2019\")).show()"
   ]
  },
  {
   "cell_type": "code",
   "execution_count": null,
   "id": "afd79e7a",
   "metadata": {},
   "outputs": [],
   "source": [
    "#df_txt.filter(df_txt.Annee==\" 2019 \").show()"
   ]
  },
  {
   "cell_type": "code",
   "execution_count": null,
   "id": "98f91ed7",
   "metadata": {},
   "outputs": [],
   "source": [
    "#df_accident_selectionne.printSchema()"
   ]
  },
  {
   "cell_type": "code",
   "execution_count": null,
   "id": "a8cc9c25",
   "metadata": {},
   "outputs": [],
   "source": [
    "#df_accident_selectionne.sort(\"Annee\",\"Mois\").tail(2)"
   ]
  },
  {
   "cell_type": "code",
   "execution_count": null,
   "id": "0bf01f20",
   "metadata": {},
   "outputs": [],
   "source": [
    "#dataframe_accident.count()"
   ]
  },
  {
   "cell_type": "code",
   "execution_count": null,
   "id": "9a74436d",
   "metadata": {},
   "outputs": [],
   "source": [
    "#df_accident_selectionne.count()"
   ]
  },
  {
   "cell_type": "code",
   "execution_count": null,
   "id": "0b6b8c3d",
   "metadata": {},
   "outputs": [],
   "source": []
  },
  {
   "cell_type": "code",
   "execution_count": null,
   "id": "390c9a87",
   "metadata": {},
   "outputs": [],
   "source": [
    "#spark.read.load(\"hdfs://namenode:9000/bases/\", format=\"csv\", sep=\";\").count()"
   ]
  },
  {
   "cell_type": "code",
   "execution_count": null,
   "id": "93be8b05",
   "metadata": {},
   "outputs": [],
   "source": [
    "#dataframe_accident.count()"
   ]
  },
  {
   "cell_type": "code",
   "execution_count": null,
   "id": "ba3b44fd",
   "metadata": {},
   "outputs": [],
   "source": [
    "!ls ./dataa/accident_de_la_route"
   ]
  },
  {
   "cell_type": "code",
   "execution_count": null,
   "id": "c9db982d",
   "metadata": {},
   "outputs": [],
   "source": [
    "#path  = \"hdfs://namenode:9000/bases/circulation.csv\"\n",
    "# lecture d'un fichier de manière la plus brute\n",
    "#df = spark.read.csv(path)\n",
    "#df = spark.read.load(path, format=\"csv\", header=True, inferSchema=\"True\", sep=\";\")"
   ]
  },
  {
   "cell_type": "code",
   "execution_count": null,
   "id": "5525b6ec",
   "metadata": {},
   "outputs": [],
   "source": [
    "#df.dtypes"
   ]
  },
  {
   "cell_type": "code",
   "execution_count": null,
   "id": "22ef969c",
   "metadata": {},
   "outputs": [],
   "source": [
    "#df.take(3)"
   ]
  },
  {
   "cell_type": "code",
   "execution_count": null,
   "id": "989dc8ac",
   "metadata": {},
   "outputs": [],
   "source": [
    "#accident =spark.read.load(\"hdfs://namenode:9000/bases/2015.csv\", format=\"csv\", header=True, inferSchema=\"True\", sep=\";\")\n",
    "#accident.printSchema()"
   ]
  },
  {
   "cell_type": "code",
   "execution_count": null,
   "id": "c84a5cc1",
   "metadata": {},
   "outputs": [],
   "source": [
    "#path  = \"hdfs://namenode:9000/bases/circulation.csv\"\n",
    "# lecture d'un fichier de manière la plus brute\n",
    "#df = spark.read.csv(path)\n",
    "#circulation = spark.read.load(path , format=\"csv\", header=True, inferSchema=\"True\", sep= \";\")\n",
    "#circulation.schema\n",
    "\n",
    "#spark.read.option(\"delimiter\", \";\").csv(path)\n",
    "\n"
   ]
  },
  {
   "cell_type": "code",
   "execution_count": null,
   "id": "8884020d",
   "metadata": {},
   "outputs": [],
   "source": [
    "from pyspark.sql.types import *\n",
    "from pyspark.sql       import functions as F\n",
    "from pyspark.sql.types     import *\n",
    "from pyspark.sql.functions import udf"
   ]
  },
  {
   "cell_type": "code",
   "execution_count": null,
   "id": "267c8900",
   "metadata": {},
   "outputs": [],
   "source": [
    "\n",
    "\n",
    "#circulation.agg(F.mean(circulation.Indice_frequentation_velo)).collect()\n",
    "#circulation.agg({'Indice fréquentation vélo': 'mean'}).collect()"
   ]
  },
  {
   "cell_type": "code",
   "execution_count": null,
   "id": "00d000af",
   "metadata": {},
   "outputs": [],
   "source": [
    "#circulation.show(5)"
   ]
  },
  {
   "cell_type": "code",
   "execution_count": null,
   "id": "497a8643",
   "metadata": {},
   "outputs": [],
   "source": [
    "#path  = \"hdfs://namenode:9000/bases/accident\"\n",
    "# lecture d'un fichier de manière la plus brute\n",
    "#df = spark.read.csv(path)\n",
    "#accident = spark.read.load(path , format=\"csv\", header=True, inferSchema=\"True\", sep= \";\")\n",
    "#accident.show(5)\n",
    "\n",
    "\n",
    "# accident.show()"
   ]
  },
  {
   "cell_type": "code",
   "execution_count": null,
   "id": "c5f5e69c",
   "metadata": {},
   "outputs": [],
   "source": [
    "#selection_accident = accident.select('Id_accident' , 'Annee' , 'Lieu Admin Actuel - Territoire Nom')\n",
    "# selection_accident.show()"
   ]
  },
  {
   "cell_type": "code",
   "execution_count": null,
   "id": "daac0d89",
   "metadata": {},
   "outputs": [],
   "source": [
    "\n",
    " #path  = \"hdfs://namenode:9000/bases/\"\n",
    "# lecture d'un fichier de manière la plus brute\n",
    "#df = spark.read.csv(path)\n",
    "# mes_fichiers = spark.read.load(path , format=\"csv\", header=True, inferSchema=\"True\", sep= \";\")\n",
    "# mes_fichiers.schema\n",
    "\n"
   ]
  },
  {
   "cell_type": "code",
   "execution_count": null,
   "id": "b4d5ed40",
   "metadata": {},
   "outputs": [],
   "source": []
  },
  {
   "cell_type": "code",
   "execution_count": null,
   "id": "17f6d9ef",
   "metadata": {},
   "outputs": [],
   "source": [
    "#dataframe_accident_lieux2021 = dataframe_pollution.withColumnRenamed(\"annee\",\"Annee\")"
   ]
  },
  {
   "cell_type": "code",
   "execution_count": null,
   "id": "4b0261ea",
   "metadata": {},
   "outputs": [],
   "source": [
    "    # dataframe_accident_lieux2021.show()"
   ]
  },
  {
   "cell_type": "code",
   "execution_count": null,
   "id": "18c2abb0",
   "metadata": {},
   "outputs": [],
   "source": [
    "path  = 'hdfs://namenode:9000/ma_base/accident/'\n",
    "dataframe_accident = spark.read.format('csv').options(header=True, sep=\";\" , encoding = \"ISO-8859-1\").load(path)\n",
    "dataframe_accident.show()\n"
   ]
  },
  {
   "cell_type": "code",
   "execution_count": null,
   "id": "aeca55fb",
   "metadata": {},
   "outputs": [],
   "source": []
  },
  {
   "cell_type": "code",
   "execution_count": null,
   "id": "eaa93f4b",
   "metadata": {},
   "outputs": [],
   "source": []
  },
  {
   "cell_type": "code",
   "execution_count": null,
   "id": "3e45bc67",
   "metadata": {},
   "outputs": [],
   "source": [
    "df_accident_selectionne = dataframe_accident.select(\"Annee\" , \"Num_Acc\" , \"Mois\" , \"Lieu\")\n",
    "df_accident_selectionne.show(5)\n",
    "df_accident_selectionne.count()"
   ]
  },
  {
   "cell_type": "code",
   "execution_count": null,
   "id": "59df86c3",
   "metadata": {},
   "outputs": [],
   "source": []
  },
  {
   "cell_type": "code",
   "execution_count": null,
   "id": "b73c2c54",
   "metadata": {},
   "outputs": [],
   "source": [
    "df_accident_selectionne.filter((df_accident_selectionne.Annee == \"2018\") & (df_accident_selectionne.Mois == \"Janvier \")).count()\n",
    "\n",
    "                               # & (df_accident_selectionne.Mois == \"Janvier \")).count()\n",
    "\n",
    "\n",
    "\n"
   ]
  },
  {
   "cell_type": "code",
   "execution_count": null,
   "id": "c58c5fe8",
   "metadata": {},
   "outputs": [],
   "source": [
    "df_accident_selectionne.filter(df_accident_selectionne.Annee == \"2021\").show(2)"
   ]
  },
  {
   "cell_type": "code",
   "execution_count": null,
   "id": "3f270c09",
   "metadata": {},
   "outputs": [],
   "source": []
  },
  {
   "cell_type": "code",
   "execution_count": null,
   "id": "bf2af94b",
   "metadata": {},
   "outputs": [],
   "source": [
    "df_accident_selectionne.filter((df_accident_selectionne.Annee == \"2018\") & (df_accident_selectionne.Mois == \"Fevrier \")).count()"
   ]
  },
  {
   "cell_type": "code",
   "execution_count": null,
   "id": "117c4ca0",
   "metadata": {},
   "outputs": [],
   "source": [
    "df_accident_selectionne.filter((df_accident_selectionne.Annee == \"2018\") & (df_accident_selectionne.Mois == \"Mars \")).count()"
   ]
  },
  {
   "cell_type": "code",
   "execution_count": null,
   "id": "146c86a9",
   "metadata": {},
   "outputs": [],
   "source": [
    "\n",
    "df_accident_selectionne.filter((df_accident_selectionne.Annee == \"2018\") & (df_accident_selectionne.Mois == \"Avril\")).count()\n"
   ]
  },
  {
   "cell_type": "code",
   "execution_count": null,
   "id": "f4dd60a2",
   "metadata": {},
   "outputs": [],
   "source": [
    "df_accident_selectionne.filter((df_accident_selectionne.Annee == \"2018\") & (df_accident_selectionne.Mois == \"Mai \")).count()\n"
   ]
  },
  {
   "cell_type": "code",
   "execution_count": null,
   "id": "361a19bd",
   "metadata": {},
   "outputs": [],
   "source": [
    "df_accident_selectionne.filter((df_accident_selectionne.Annee == \"2018\") & (df_accident_selectionne.Mois == \"Juin\")).count()\n"
   ]
  },
  {
   "cell_type": "code",
   "execution_count": null,
   "id": "90e66cca",
   "metadata": {},
   "outputs": [],
   "source": [
    "df_accident_selectionne.filter((df_accident_selectionne.Annee == \"2018\") & (df_accident_selectionne.Mois == \"Juillet\")).count()\n"
   ]
  },
  {
   "cell_type": "code",
   "execution_count": null,
   "id": "db994fc6",
   "metadata": {},
   "outputs": [],
   "source": [
    "df_accident_selectionne.filter((df_accident_selectionne.Annee == \"2018\") & (df_accident_selectionne.Mois == \"Aout\")).count()\n"
   ]
  },
  {
   "cell_type": "code",
   "execution_count": null,
   "id": "eaa14259",
   "metadata": {},
   "outputs": [],
   "source": [
    "df_accident_selectionne.filter((df_accident_selectionne.Annee == \"2018\") & (df_accident_selectionne.Mois == \"Septembre\")).count()\n"
   ]
  },
  {
   "cell_type": "code",
   "execution_count": null,
   "id": "ffb3924a",
   "metadata": {},
   "outputs": [],
   "source": [
    "df_accident_selectionne.filter((df_accident_selectionne.Annee == \"2018\") & (df_accident_selectionne.Mois == \"Octobre\")).count()"
   ]
  },
  {
   "cell_type": "code",
   "execution_count": null,
   "id": "fbc48304",
   "metadata": {},
   "outputs": [],
   "source": [
    "\n",
    "df_accident_selectionne.filter((df_accident_selectionne.Annee == \"2018\") & (df_accident_selectionne.Mois == \"Novembre\")).count()"
   ]
  },
  {
   "cell_type": "code",
   "execution_count": null,
   "id": "148ac667",
   "metadata": {},
   "outputs": [],
   "source": [
    "\n",
    "df_accident_selectionne.filter((df_accident_selectionne.Annee == \"2018\") & (df_accident_selectionne.Mois == \"Décembre \")).count()"
   ]
  },
  {
   "cell_type": "code",
   "execution_count": null,
   "id": "f037cff2",
   "metadata": {},
   "outputs": [],
   "source": [
    "df_accident_selectionne.filter((df_accident_selectionne.Annee == \"2019\") & (df_accident_selectionne.Mois == \"Janvier \")).count()"
   ]
  },
  {
   "cell_type": "code",
   "execution_count": null,
   "id": "5705cbff",
   "metadata": {},
   "outputs": [],
   "source": [
    "\n",
    "df_accident_selectionne.filter((df_accident_selectionne.Annee == \"2019\") & (df_accident_selectionne.Mois == \"Fevrier \")).count()"
   ]
  },
  {
   "cell_type": "code",
   "execution_count": null,
   "id": "fb64ad56",
   "metadata": {},
   "outputs": [],
   "source": [
    "\n",
    "df_accident_selectionne.filter((df_accident_selectionne.Annee == \"2019\") & (df_accident_selectionne.Mois == \"Mars \")).count()"
   ]
  },
  {
   "cell_type": "code",
   "execution_count": null,
   "id": "50251395",
   "metadata": {},
   "outputs": [],
   "source": [
    "\n",
    "df_accident_selectionne.filter((df_accident_selectionne.Annee == \"2019\") & (df_accident_selectionne.Mois == \"Avril\")).count()"
   ]
  },
  {
   "cell_type": "code",
   "execution_count": null,
   "id": "d3626400",
   "metadata": {},
   "outputs": [],
   "source": [
    "\n",
    "df_accident_selectionne.filter((df_accident_selectionne.Annee == \"2019\") & (df_accident_selectionne.Mois == \"Mai \")).count()"
   ]
  },
  {
   "cell_type": "code",
   "execution_count": null,
   "id": "84257169",
   "metadata": {},
   "outputs": [],
   "source": [
    "\n",
    "df_accident_selectionne.filter((df_accident_selectionne.Annee == \"2019\") & (df_accident_selectionne.Mois == \"Juin\")).count()\n"
   ]
  },
  {
   "cell_type": "code",
   "execution_count": null,
   "id": "84c42c89",
   "metadata": {},
   "outputs": [],
   "source": [
    "df_accident_selectionne.filter((df_accident_selectionne.Annee == \"2019\") & (df_accident_selectionne.Mois == \"Juillet\")).count()"
   ]
  },
  {
   "cell_type": "code",
   "execution_count": null,
   "id": "25fbea21",
   "metadata": {},
   "outputs": [],
   "source": [
    "\n",
    "df_accident_selectionne.filter((df_accident_selectionne.Annee == \"2019\") & (df_accident_selectionne.Mois == \"Aout\")).count()"
   ]
  },
  {
   "cell_type": "code",
   "execution_count": null,
   "id": "e0a894ec",
   "metadata": {},
   "outputs": [],
   "source": [
    "\n",
    "df_accident_selectionne.filter((df_accident_selectionne.Annee == \"2019\") & (df_accident_selectionne.Mois == \"Septembre\")).count()"
   ]
  },
  {
   "cell_type": "code",
   "execution_count": null,
   "id": "62377eb6",
   "metadata": {},
   "outputs": [],
   "source": [
    "\n",
    "df_accident_selectionne.filter((df_accident_selectionne.Annee == \"2019\") & (df_accident_selectionne.Mois == \"Octobre\")).count()"
   ]
  },
  {
   "cell_type": "code",
   "execution_count": null,
   "id": "a42d2a16",
   "metadata": {},
   "outputs": [],
   "source": [
    "\n",
    "df_accident_selectionne.filter((df_accident_selectionne.Annee == \"2019\") & (df_accident_selectionne.Mois == \"Novembre\")).count()"
   ]
  },
  {
   "cell_type": "code",
   "execution_count": null,
   "id": "b7314b32",
   "metadata": {},
   "outputs": [],
   "source": [
    "\n",
    "df_accident_selectionne.filter((df_accident_selectionne.Annee == \"2019\") & (df_accident_selectionne.Mois == \"Decembre\")).count()"
   ]
  },
  {
   "cell_type": "code",
   "execution_count": null,
   "id": "e7fe444e",
   "metadata": {},
   "outputs": [],
   "source": [
    "df_accident_selectionne.filter((df_accident_selectionne.Annee == \"2020\") & (df_accident_selectionne.Mois == \"Janvier \")).count()"
   ]
  },
  {
   "cell_type": "code",
   "execution_count": null,
   "id": "c3e3db3e",
   "metadata": {},
   "outputs": [],
   "source": [
    "\n",
    "df_accident_selectionne.filter((df_accident_selectionne.Annee == \"2020\") & (df_accident_selectionne.Mois == \"Fevrier \")).count()"
   ]
  },
  {
   "cell_type": "code",
   "execution_count": null,
   "id": "3b55d7ec",
   "metadata": {},
   "outputs": [],
   "source": [
    "\n",
    "df_accident_selectionne.filter((df_accident_selectionne.Annee == \"2020\") & (df_accident_selectionne.Mois == \"Mars \")).count()"
   ]
  },
  {
   "cell_type": "code",
   "execution_count": null,
   "id": "baee05c5",
   "metadata": {},
   "outputs": [],
   "source": [
    "\n",
    "df_accident_selectionne.filter((df_accident_selectionne.Annee == \"2020\") & (df_accident_selectionne.Mois == \"Avril\")).count()"
   ]
  },
  {
   "cell_type": "code",
   "execution_count": null,
   "id": "b825aacb",
   "metadata": {},
   "outputs": [],
   "source": [
    "\n",
    "df_accident_selectionne.filter((df_accident_selectionne.Annee == \"2020\") & (df_accident_selectionne.Mois == \"Mai \")).count()"
   ]
  },
  {
   "cell_type": "code",
   "execution_count": null,
   "id": "f1bd4be4",
   "metadata": {},
   "outputs": [],
   "source": [
    "\n",
    "df_accident_selectionne.filter((df_accident_selectionne.Annee == \"2020\") & (df_accident_selectionne.Mois == \"Juin\")).count()"
   ]
  },
  {
   "cell_type": "code",
   "execution_count": null,
   "id": "10c2c5bf",
   "metadata": {},
   "outputs": [],
   "source": [
    "\n",
    "df_accident_selectionne.filter((df_accident_selectionne.Annee == \"2020\") & (df_accident_selectionne.Mois == \"Juillet\")).count()"
   ]
  },
  {
   "cell_type": "code",
   "execution_count": null,
   "id": "d9a0a1cd",
   "metadata": {},
   "outputs": [],
   "source": [
    "\n",
    "df_accident_selectionne.filter((df_accident_selectionne.Annee == \"2020\") & (df_accident_selectionne.Mois == \"Aout\")).count()"
   ]
  },
  {
   "cell_type": "code",
   "execution_count": null,
   "id": "aa151bb8",
   "metadata": {},
   "outputs": [],
   "source": [
    "\n",
    "df_accident_selectionne.filter((df_accident_selectionne.Annee == \"2020\") & (df_accident_selectionne.Mois == \"Septembre\")).count()"
   ]
  },
  {
   "cell_type": "code",
   "execution_count": null,
   "id": "b8a7eefa",
   "metadata": {},
   "outputs": [],
   "source": [
    "\n",
    "df_accident_selectionne.filter((df_accident_selectionne.Annee == \"2020\") & (df_accident_selectionne.Mois == \"Octobre\")).count()"
   ]
  },
  {
   "cell_type": "code",
   "execution_count": null,
   "id": "6102ef84",
   "metadata": {},
   "outputs": [],
   "source": [
    "\n",
    "df_accident_selectionne.filter((df_accident_selectionne.Annee == \"2020\") & (df_accident_selectionne.Mois == \"Novembre\")).count()"
   ]
  },
  {
   "cell_type": "code",
   "execution_count": null,
   "id": "335a1aae",
   "metadata": {},
   "outputs": [],
   "source": [
    "\n",
    "df_accident_selectionne.filter((df_accident_selectionne.Annee == \"2020\") & (df_accident_selectionne.Mois == \"Decembre\")).count()"
   ]
  },
  {
   "cell_type": "code",
   "execution_count": null,
   "id": "f1cf6ece",
   "metadata": {},
   "outputs": [],
   "source": [
    "df_accident_selectionne.filter((df_accident_selectionne.Annee == \"2021\") & (df_accident_selectionne.Mois == \"Janvier\")).count()"
   ]
  },
  {
   "cell_type": "code",
   "execution_count": null,
   "id": "a6f35b33",
   "metadata": {},
   "outputs": [],
   "source": [
    "\n",
    "df_accident_selectionne.filter((df_accident_selectionne.Annee == \"2021\") & (df_accident_selectionne.Mois == \"Fevrier\")).count()\n"
   ]
  },
  {
   "cell_type": "code",
   "execution_count": null,
   "id": "e321090c",
   "metadata": {},
   "outputs": [],
   "source": [
    "\n",
    "df_accident_selectionne.filter((df_accident_selectionne.Annee == \"2021\") & (df_accident_selectionne.Mois == \"Mars\")).count()"
   ]
  },
  {
   "cell_type": "code",
   "execution_count": null,
   "id": "f353abd4",
   "metadata": {},
   "outputs": [],
   "source": [
    "\n",
    "df_accident_selectionne.filter((df_accident_selectionne.Annee == \"2021\") & (df_accident_selectionne.Mois == \"Avril\")).count()"
   ]
  },
  {
   "cell_type": "code",
   "execution_count": null,
   "id": "8a801c91",
   "metadata": {},
   "outputs": [],
   "source": [
    "\n",
    "df_accident_selectionne.filter((df_accident_selectionne.Annee == \"2021\") & (df_accident_selectionne.Mois == \"Mai\")).count()"
   ]
  },
  {
   "cell_type": "code",
   "execution_count": null,
   "id": "54dcfede",
   "metadata": {},
   "outputs": [],
   "source": [
    "\n",
    "df_accident_selectionne.filter((df_accident_selectionne.Annee == \"2021\") & (df_accident_selectionne.Mois == \"Juin\")).count()"
   ]
  },
  {
   "cell_type": "code",
   "execution_count": null,
   "id": "88bbda3f",
   "metadata": {},
   "outputs": [],
   "source": [
    "\n",
    "df_accident_selectionne.filter((df_accident_selectionne.Annee == \"2021\") & (df_accident_selectionne.Mois == \"Juillet\")).count()"
   ]
  },
  {
   "cell_type": "code",
   "execution_count": null,
   "id": "65c86197",
   "metadata": {},
   "outputs": [],
   "source": [
    "\n",
    "df_accident_selectionne.filter((df_accident_selectionne.Annee == \"2021\") & (df_accident_selectionne.Mois == \"Aout\")).count()"
   ]
  },
  {
   "cell_type": "code",
   "execution_count": null,
   "id": "0ab36b7e",
   "metadata": {},
   "outputs": [],
   "source": [
    "\n",
    "df_accident_selectionne.filter((df_accident_selectionne.Annee == \"2021\") & (df_accident_selectionne.Mois == \"Septembre\")).count()"
   ]
  },
  {
   "cell_type": "code",
   "execution_count": null,
   "id": "c4387d45",
   "metadata": {},
   "outputs": [],
   "source": [
    "\n",
    "df_accident_selectionne.filter((df_accident_selectionne.Annee == \"2021\") & (df_accident_selectionne.Mois == \"Octobre\")).count()"
   ]
  },
  {
   "cell_type": "code",
   "execution_count": null,
   "id": "e04e3784",
   "metadata": {},
   "outputs": [],
   "source": [
    "\n",
    "df_accident_selectionne.filter((df_accident_selectionne.Annee == \"2021\") & (df_accident_selectionne.Mois == \"Novembre\")).count()"
   ]
  },
  {
   "cell_type": "code",
   "execution_count": null,
   "id": "ba755104",
   "metadata": {},
   "outputs": [],
   "source": [
    "\n",
    "df_accident_selectionne.filter((df_accident_selectionne.Annee == \"2021\") & (df_accident_selectionne.Mois == \"Decembre\")).count()"
   ]
  },
  {
   "cell_type": "markdown",
   "id": "d3c8ab05",
   "metadata": {},
   "source": [
    "3) Visualisation : "
   ]
  },
  {
   "cell_type": "code",
   "execution_count": null,
   "id": "64c28ef9",
   "metadata": {},
   "outputs": [],
   "source": [
    "\n",
    "df_accident_selectionne_pd = df_accident_selectionne.toPandas()"
   ]
  },
  {
   "cell_type": "code",
   "execution_count": null,
   "id": "0e3da9cc",
   "metadata": {},
   "outputs": [],
   "source": [
    "df_circulation_selectionne_pd = df_circulation_selectionne.toPandas()\n",
    "# print(df_circulation_selectionne_pd)\n"
   ]
  },
  {
   "cell_type": "code",
   "execution_count": null,
   "id": "81978757",
   "metadata": {},
   "outputs": [],
   "source": [
    "df_circulation_selectionne_pd10 = df_circulation_selectionne_pd.head(1000)"
   ]
  },
  {
   "cell_type": "code",
   "execution_count": null,
   "id": "3b9a43f9",
   "metadata": {},
   "outputs": [],
   "source": [
    "print(df_circulation_selectionne_pd10)"
   ]
  },
  {
   "cell_type": "code",
   "execution_count": null,
   "id": "b4c6ed90",
   "metadata": {},
   "outputs": [],
   "source": [
    "sns.set_theme()"
   ]
  },
  {
   "cell_type": "code",
   "execution_count": null,
   "id": "ae377803",
   "metadata": {},
   "outputs": [],
   "source": [
    "# df_circulation_selectionne_pd10.plot.scatter(x='Mois' , y='Indice frequentation tout types de transports')\n",
    "#df_circulation_selectionne_pd10.plot()\n",
    "#plt.show()"
   ]
  },
  {
   "cell_type": "code",
   "execution_count": null,
   "id": "f2cdde15",
   "metadata": {},
   "outputs": [],
   "source": [
    "sns.barplot(\n",
    "    data = df_circulation_selectionne_pd10,\n",
    "   y=\"Indice frequentation tout types de transports\",\n",
    "   x=\"Id_circulation\",\n",
    ")\n"
   ]
  },
  {
   "cell_type": "code",
   "execution_count": null,
   "id": "6cdec0d7",
   "metadata": {},
   "outputs": [],
   "source": []
  },
  {
   "cell_type": "code",
   "execution_count": null,
   "id": "3b131487",
   "metadata": {},
   "outputs": [],
   "source": []
  },
  {
   "cell_type": "code",
   "execution_count": null,
   "id": "f17d590f",
   "metadata": {},
   "outputs": [],
   "source": []
  },
  {
   "cell_type": "code",
   "execution_count": null,
   "id": "101c36fd",
   "metadata": {},
   "outputs": [],
   "source": []
  },
  {
   "cell_type": "code",
   "execution_count": null,
   "id": "0b421d5e",
   "metadata": {},
   "outputs": [],
   "source": []
  },
  {
   "cell_type": "code",
   "execution_count": null,
   "id": "cab1efe4",
   "metadata": {},
   "outputs": [],
   "source": []
  },
  {
   "cell_type": "code",
   "execution_count": null,
   "id": "62f82426",
   "metadata": {},
   "outputs": [],
   "source": [
    "\n"
   ]
  },
  {
   "cell_type": "code",
   "execution_count": null,
   "id": "78f3a344",
   "metadata": {},
   "outputs": [],
   "source": [
    "!pip --version"
   ]
  },
  {
   "cell_type": "code",
   "execution_count": null,
   "id": "d76d5d56",
   "metadata": {},
   "outputs": [],
   "source": [
    "!pip install numpy"
   ]
  },
  {
   "cell_type": "code",
   "execution_count": null,
   "id": "dc8ab0a2",
   "metadata": {},
   "outputs": [],
   "source": []
  },
  {
   "cell_type": "code",
   "execution_count": null,
   "id": "26741671",
   "metadata": {},
   "outputs": [],
   "source": [
    "!pip install seaborn"
   ]
  },
  {
   "cell_type": "code",
   "execution_count": null,
   "id": "4823e5ab",
   "metadata": {},
   "outputs": [],
   "source": [
    "!pip install pandas"
   ]
  },
  {
   "cell_type": "code",
   "execution_count": null,
   "id": "8f2b5ead",
   "metadata": {},
   "outputs": [],
   "source": []
  },
  {
   "cell_type": "code",
   "execution_count": null,
   "id": "9f5eb95a",
   "metadata": {},
   "outputs": [],
   "source": []
  },
  {
   "cell_type": "code",
   "execution_count": null,
   "id": "b0937cdc",
   "metadata": {},
   "outputs": [],
   "source": []
  },
  {
   "cell_type": "code",
   "execution_count": null,
   "id": "5358dfc9",
   "metadata": {},
   "outputs": [],
   "source": []
  },
  {
   "cell_type": "code",
   "execution_count": null,
   "id": "4f3b17c4",
   "metadata": {},
   "outputs": [],
   "source": []
  },
  {
   "cell_type": "code",
   "execution_count": null,
   "id": "7a641ec3",
   "metadata": {},
   "outputs": [],
   "source": []
  },
  {
   "cell_type": "code",
   "execution_count": null,
   "id": "13c314e4",
   "metadata": {},
   "outputs": [],
   "source": []
  },
  {
   "cell_type": "code",
   "execution_count": null,
   "id": "8beae564",
   "metadata": {},
   "outputs": [],
   "source": []
  },
  {
   "cell_type": "code",
   "execution_count": null,
   "id": "f3b7a07a",
   "metadata": {},
   "outputs": [],
   "source": []
  },
  {
   "cell_type": "code",
   "execution_count": null,
   "id": "f65730d0",
   "metadata": {},
   "outputs": [],
   "source": []
  },
  {
   "cell_type": "code",
   "execution_count": null,
   "id": "8d641932",
   "metadata": {},
   "outputs": [],
   "source": []
  },
  {
   "cell_type": "code",
   "execution_count": null,
   "id": "3403419e",
   "metadata": {},
   "outputs": [],
   "source": []
  },
  {
   "cell_type": "code",
   "execution_count": null,
   "id": "8da58f0b",
   "metadata": {},
   "outputs": [],
   "source": [
    "path  = 'hdfs://namenode:9000/mes_fichiers/accident/lieux-2018.csv'\n",
    "spark.read.format('csv').options(header=True, sep=\";\").load(path).show()"
   ]
  },
  {
   "cell_type": "code",
   "execution_count": null,
   "id": "ca4dccd3",
   "metadata": {},
   "outputs": [],
   "source": []
  },
  {
   "cell_type": "code",
   "execution_count": null,
   "id": "9cfbef8b",
   "metadata": {},
   "outputs": [],
   "source": []
  },
  {
   "cell_type": "code",
   "execution_count": null,
   "id": "ade25557",
   "metadata": {},
   "outputs": [],
   "source": []
  },
  {
   "cell_type": "code",
   "execution_count": null,
   "id": "6c4185d6",
   "metadata": {},
   "outputs": [],
   "source": []
  },
  {
   "cell_type": "code",
   "execution_count": null,
   "id": "728f6e0e",
   "metadata": {},
   "outputs": [],
   "source": []
  },
  {
   "cell_type": "code",
   "execution_count": null,
   "id": "ec3a58a0",
   "metadata": {},
   "outputs": [],
   "source": []
  },
  {
   "cell_type": "code",
   "execution_count": null,
   "id": "ba1872cb",
   "metadata": {},
   "outputs": [],
   "source": []
  },
  {
   "cell_type": "code",
   "execution_count": null,
   "id": "610fc077",
   "metadata": {},
   "outputs": [],
   "source": []
  },
  {
   "cell_type": "code",
   "execution_count": null,
   "id": "37b7f296",
   "metadata": {},
   "outputs": [],
   "source": []
  }
 ],
 "metadata": {
  "kernelspec": {
   "display_name": "Python 3 (ipykernel)",
   "language": "python",
   "name": "python3"
  },
  "language_info": {
   "codemirror_mode": {
    "name": "ipython",
    "version": 3
   },
   "file_extension": ".py",
   "mimetype": "text/x-python",
   "name": "python",
   "nbconvert_exporter": "python",
   "pygments_lexer": "ipython3",
   "version": "3.9.2"
  }
 },
 "nbformat": 4,
 "nbformat_minor": 5
}
